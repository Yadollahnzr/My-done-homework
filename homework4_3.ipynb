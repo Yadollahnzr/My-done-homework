{
  "nbformat": 4,
  "nbformat_minor": 0,
  "metadata": {
    "colab": {
      "name": "homework4-3.ipynb",
      "provenance": []
    },
    "kernelspec": {
      "name": "python3",
      "display_name": "Python 3"
    },
    "language_info": {
      "name": "python"
    },
    "accelerator": "GPU"
  },
  "cells": [
    {
      "cell_type": "code",
      "execution_count": 59,
      "metadata": {
        "id": "Teo28QEXYbyU"
      },
      "outputs": [],
      "source": [
        "import tensorflow as tf\n",
        "import os\n",
        "from tensorflow import keras\n",
        "from keras import layers\n",
        "from keras import models\n",
        "import numpy as np\n",
        "import pathlib"
      ]
    },
    {
      "cell_type": "code",
      "source": [
        "_URL = 'https://storage.googleapis.com/mledu-datasets/cats_and_dogs_filtered.zip'\n",
        "\n",
        "path_to_zip = tf.keras.utils.get_file('cats_and_dogs.zip', origin=_URL, extract=True)\n",
        "\n",
        "PATH = os.path.join(os.path.dirname(path_to_zip), 'cats_and_dogs_filtered')\n",
        "\n",
        "train_dir =  \"/root/.keras/datasets/cats_and_dogs_filtered/train\"\n",
        "validation_dir = \"/root/.keras/datasets/cats_and_dogs_filtered/validation\""
      ],
      "metadata": {
        "id": "zCsV_K24Y1Vy"
      },
      "execution_count": 60,
      "outputs": []
    },
    {
      "cell_type": "code",
      "source": [
        "!ls /root/.keras/datasets/cats_and_dogs_filtered/train"
      ],
      "metadata": {
        "colab": {
          "base_uri": "https://localhost:8080/"
        },
        "id": "wXPNyafEjC9C",
        "outputId": "755192e2-f38b-4487-ec7b-04917798a175"
      },
      "execution_count": 61,
      "outputs": [
        {
          "output_type": "stream",
          "name": "stdout",
          "text": [
            "cats  dogs\n"
          ]
        }
      ]
    },
    {
      "cell_type": "code",
      "source": [
        "train_dir = pathlib.Path(train_dir)\n",
        "validation_dir = pathlib.Path(validation_dir)"
      ],
      "metadata": {
        "id": "lQblk9udjQ69"
      },
      "execution_count": 62,
      "outputs": []
    },
    {
      "cell_type": "code",
      "source": [
        "Class_Names = np.array([item.name for item in train_dir.glob('*')])"
      ],
      "metadata": {
        "id": "kvQwfd6bYmfw"
      },
      "execution_count": 63,
      "outputs": []
    },
    {
      "cell_type": "code",
      "source": [
        "Class_Names"
      ],
      "metadata": {
        "colab": {
          "base_uri": "https://localhost:8080/"
        },
        "id": "auqNq8naji1-",
        "outputId": "caaa3a57-925d-4f16-b9c3-d1db23d05863"
      },
      "execution_count": 64,
      "outputs": [
        {
          "output_type": "execute_result",
          "data": {
            "text/plain": [
              "array(['cats', 'dogs'], dtype='<U4')"
            ]
          },
          "metadata": {},
          "execution_count": 64
        }
      ]
    },
    {
      "cell_type": "code",
      "source": [
        "train_dataset = tf.data.Dataset.list_files(str(train_dir/'*/*'))"
      ],
      "metadata": {
        "id": "X7GRZ44IkCGN"
      },
      "execution_count": 65,
      "outputs": []
    },
    {
      "cell_type": "code",
      "source": [
        "validation_dataset = tf.data.Dataset.list_files(str(validation_dir/'*/*'))"
      ],
      "metadata": {
        "id": "5HFZRNCXok50"
      },
      "execution_count": 66,
      "outputs": []
    },
    {
      "cell_type": "code",
      "source": [
        "def get_label(file_path):\n",
        "  parts = tf.strings.split(file_path, os.path.sep)\n",
        "  return parts[-2] == Class_Names"
      ],
      "metadata": {
        "id": "V4wn-hkbkYZd"
      },
      "execution_count": 67,
      "outputs": []
    },
    {
      "cell_type": "code",
      "source": [
        "def load_img(image_path):\n",
        "    img = tf.io.read_file(image_path)\n",
        "    img = tf.image.decode_image(img, 3, expand_animations=False)\n",
        "    img = tf.cast(img, tf.float32)\n",
        "    return img"
      ],
      "metadata": {
        "id": "oc1L-RxekjHf"
      },
      "execution_count": 68,
      "outputs": []
    },
    {
      "cell_type": "code",
      "source": [
        "def normalize(image):\n",
        "    image = image / 255\n",
        "    return image"
      ],
      "metadata": {
        "id": "-c3UCJOnmJpW"
      },
      "execution_count": 69,
      "outputs": []
    },
    {
      "cell_type": "code",
      "source": [
        "def resize(image,height, width):\n",
        "    image = tf.image.resize(image, (height, width),\n",
        "                                 method=tf.image.ResizeMethod.NEAREST_NEIGHBOR)\n",
        "    return image"
      ],
      "metadata": {
        "id": "AU3eLlOmmNS4"
      },
      "execution_count": 70,
      "outputs": []
    },
    {
      "cell_type": "code",
      "source": [
        "def load_image_with_label(image_path):\n",
        "    label = get_label(image_path)\n",
        "    img = load_img(image_path)\n",
        "    return img, label"
      ],
      "metadata": {
        "id": "mVX_wSt6me23"
      },
      "execution_count": 71,
      "outputs": []
    },
    {
      "cell_type": "code",
      "source": [
        "def load_image(image_file):\n",
        "    image, label = load_image_with_label(image_file)\n",
        "    image = resize(image,150,150)\n",
        "    image = normalize(image)\n",
        "    \n",
        "    return image, label"
      ],
      "metadata": {
        "id": "xC-k_pY4mkfe"
      },
      "execution_count": 72,
      "outputs": []
    },
    {
      "cell_type": "code",
      "source": [
        "BATCH_SIZE = 32\n",
        "SHUFFLE_BUFFER_SIZE = 1000"
      ],
      "metadata": {
        "id": "1Uff7XqEnrfv"
      },
      "execution_count": 73,
      "outputs": []
    },
    {
      "cell_type": "code",
      "source": [
        "AUTOTUNE = tf.data.experimental.AUTOTUNE"
      ],
      "metadata": {
        "id": "QSTR58d-6eV4"
      },
      "execution_count": 74,
      "outputs": []
    },
    {
      "cell_type": "code",
      "source": [
        "train_dataset = train_dataset.map(load_image) \n",
        "train_dataset = train_dataset.shuffle(SHUFFLE_BUFFER_SIZE)\n",
        "train_dataset = train_dataset.batch(BATCH_SIZE)\n",
        "train_dataset = train_dataset.prefetch(buffer_size=AUTOTUNE)"
      ],
      "metadata": {
        "id": "7Y3ukdzHoCZz"
      },
      "execution_count": null,
      "outputs": []
    },
    {
      "cell_type": "code",
      "source": [
        "validation_dataset = validation_dataset.map(load_image)\n",
        "validation_dataset = validation_dataset.batch(BATCH_SIZE)"
      ],
      "metadata": {
        "id": "cTWe45BHpQNy"
      },
      "execution_count": 76,
      "outputs": []
    },
    {
      "cell_type": "code",
      "source": [
        "base_model = tf.keras.applications.VGG16(weights='imagenet',\n",
        "                  include_top=False,\n",
        "                  input_shape=(150, 150, 3))"
      ],
      "metadata": {
        "id": "dK9NEh3opjNe"
      },
      "execution_count": 77,
      "outputs": []
    },
    {
      "cell_type": "code",
      "source": [
        "model = models.Sequential()\n",
        "model.add(layers.Conv2D(32, (3, 3), activation='relu',\n",
        "                        input_shape=(150, 150, 3)))\n",
        "model.add(layers.MaxPooling2D((2, 2)))\n",
        "model.add(layers.Conv2D(64, (3, 3), activation='relu'))\n",
        "model.add(layers.MaxPooling2D((2, 2)))\n",
        "model.add(layers.Conv2D(128, (3, 3), activation='relu'))\n",
        "model.add(layers.MaxPooling2D((2, 2)))\n",
        "model.add(layers.Conv2D(128, (3, 3), activation='relu'))\n",
        "model.add(layers.MaxPooling2D((2, 2)))\n",
        "model.add(layers.Flatten())\n",
        "model.add(layers.Dense(512, activation='relu'))\n",
        "model.add(layers.Dense(2, activation='softmax'))\n"
      ],
      "metadata": {
        "id": "s_e8MZ9PYmoE"
      },
      "execution_count": 78,
      "outputs": []
    },
    {
      "cell_type": "code",
      "source": [
        "model.compile(loss='categorical_crossentropy', optimizer=keras.optimizers.RMSprop(lr=1e-4), metrics=['acc'])"
      ],
      "metadata": {
        "colab": {
          "base_uri": "https://localhost:8080/"
        },
        "id": "XwsaYT_NZEUC",
        "outputId": "c0e7705e-21e0-460c-aaf0-37eff09690c6"
      },
      "execution_count": 79,
      "outputs": [
        {
          "output_type": "stream",
          "name": "stderr",
          "text": [
            "/usr/local/lib/python3.7/dist-packages/keras/optimizer_v2/rmsprop.py:130: UserWarning: The `lr` argument is deprecated, use `learning_rate` instead.\n",
            "  super(RMSprop, self).__init__(name, **kwargs)\n"
          ]
        }
      ]
    },
    {
      "cell_type": "code",
      "source": [
        "train_dataset"
      ],
      "metadata": {
        "colab": {
          "base_uri": "https://localhost:8080/"
        },
        "id": "KVtZ9keRwnR3",
        "outputId": "77d39e18-feed-4ba9-f816-07ac5ed9c106"
      },
      "execution_count": 80,
      "outputs": [
        {
          "output_type": "execute_result",
          "data": {
            "text/plain": [
              "<PrefetchDataset element_spec=(TensorSpec(shape=(None, 150, 150, 3), dtype=tf.float32, name=None), TensorSpec(shape=(None, 2), dtype=tf.bool, name=None))>"
            ]
          },
          "metadata": {},
          "execution_count": 80
        }
      ]
    },
    {
      "cell_type": "code",
      "source": [
        ""
      ],
      "metadata": {
        "id": "apkbrscMyjcy"
      },
      "execution_count": 80,
      "outputs": []
    },
    {
      "cell_type": "code",
      "source": [
        "history = model.fit( train_dataset, epochs=30, \n",
        "                    validation_data=validation_dataset)"
      ],
      "metadata": {
        "id": "FbGqwn1TZJVe",
        "colab": {
          "base_uri": "https://localhost:8080/"
        },
        "outputId": "9689428c-9609-44f3-8900-55de815de699"
      },
      "execution_count": 81,
      "outputs": [
        {
          "output_type": "stream",
          "name": "stdout",
          "text": [
            "Epoch 1/30\n",
            "63/63 [==============================] - 8s 86ms/step - loss: 0.7007 - acc: 0.5380 - val_loss: 0.6768 - val_acc: 0.5990\n",
            "Epoch 2/30\n",
            "63/63 [==============================] - 7s 83ms/step - loss: 0.6728 - acc: 0.5975 - val_loss: 0.6589 - val_acc: 0.6110\n",
            "Epoch 3/30\n",
            "63/63 [==============================] - 7s 83ms/step - loss: 0.6427 - acc: 0.6270 - val_loss: 0.6898 - val_acc: 0.5350\n",
            "Epoch 4/30\n",
            "63/63 [==============================] - 7s 82ms/step - loss: 0.6141 - acc: 0.6465 - val_loss: 0.6112 - val_acc: 0.6770\n",
            "Epoch 5/30\n",
            "63/63 [==============================] - 7s 84ms/step - loss: 0.5846 - acc: 0.6845 - val_loss: 0.5957 - val_acc: 0.6970\n",
            "Epoch 6/30\n",
            "63/63 [==============================] - 7s 84ms/step - loss: 0.5473 - acc: 0.7200 - val_loss: 0.6098 - val_acc: 0.6770\n",
            "Epoch 7/30\n",
            "63/63 [==============================] - 10s 110ms/step - loss: 0.5134 - acc: 0.7480 - val_loss: 0.5938 - val_acc: 0.6900\n",
            "Epoch 8/30\n",
            "63/63 [==============================] - 7s 84ms/step - loss: 0.4876 - acc: 0.7720 - val_loss: 0.5839 - val_acc: 0.7040\n",
            "Epoch 9/30\n",
            "63/63 [==============================] - 7s 83ms/step - loss: 0.4521 - acc: 0.7880 - val_loss: 0.5525 - val_acc: 0.7150\n",
            "Epoch 10/30\n",
            "63/63 [==============================] - 7s 86ms/step - loss: 0.4228 - acc: 0.8010 - val_loss: 0.5641 - val_acc: 0.7220\n",
            "Epoch 11/30\n",
            "63/63 [==============================] - 7s 85ms/step - loss: 0.3991 - acc: 0.8195 - val_loss: 0.5536 - val_acc: 0.7210\n",
            "Epoch 12/30\n",
            "63/63 [==============================] - 7s 84ms/step - loss: 0.3758 - acc: 0.8310 - val_loss: 0.5652 - val_acc: 0.7210\n",
            "Epoch 13/30\n",
            "63/63 [==============================] - 7s 82ms/step - loss: 0.3502 - acc: 0.8550 - val_loss: 0.5668 - val_acc: 0.7240\n",
            "Epoch 14/30\n",
            "63/63 [==============================] - 7s 81ms/step - loss: 0.3202 - acc: 0.8635 - val_loss: 0.7425 - val_acc: 0.6700\n",
            "Epoch 15/30\n",
            "63/63 [==============================] - 7s 83ms/step - loss: 0.3002 - acc: 0.8710 - val_loss: 0.5999 - val_acc: 0.7170\n",
            "Epoch 16/30\n",
            "63/63 [==============================] - 7s 85ms/step - loss: 0.2880 - acc: 0.8830 - val_loss: 0.5623 - val_acc: 0.7510\n",
            "Epoch 17/30\n",
            "63/63 [==============================] - 7s 83ms/step - loss: 0.2644 - acc: 0.8860 - val_loss: 0.5967 - val_acc: 0.7170\n",
            "Epoch 18/30\n",
            "63/63 [==============================] - 7s 91ms/step - loss: 0.2288 - acc: 0.9090 - val_loss: 0.6238 - val_acc: 0.7320\n",
            "Epoch 19/30\n",
            "63/63 [==============================] - 7s 84ms/step - loss: 0.2085 - acc: 0.9215 - val_loss: 0.6514 - val_acc: 0.7190\n",
            "Epoch 20/30\n",
            "63/63 [==============================] - 7s 83ms/step - loss: 0.2025 - acc: 0.9240 - val_loss: 0.5754 - val_acc: 0.7480\n",
            "Epoch 21/30\n",
            "63/63 [==============================] - 7s 83ms/step - loss: 0.1747 - acc: 0.9375 - val_loss: 0.6205 - val_acc: 0.7500\n",
            "Epoch 22/30\n",
            "63/63 [==============================] - 7s 83ms/step - loss: 0.1540 - acc: 0.9465 - val_loss: 0.6790 - val_acc: 0.7260\n",
            "Epoch 23/30\n",
            "63/63 [==============================] - 7s 83ms/step - loss: 0.1421 - acc: 0.9505 - val_loss: 0.6899 - val_acc: 0.7220\n",
            "Epoch 24/30\n",
            "63/63 [==============================] - 7s 82ms/step - loss: 0.1276 - acc: 0.9580 - val_loss: 0.6827 - val_acc: 0.7350\n",
            "Epoch 25/30\n",
            "63/63 [==============================] - 7s 84ms/step - loss: 0.1110 - acc: 0.9640 - val_loss: 0.7634 - val_acc: 0.7320\n",
            "Epoch 26/30\n",
            "63/63 [==============================] - 7s 84ms/step - loss: 0.0924 - acc: 0.9695 - val_loss: 0.8100 - val_acc: 0.7380\n",
            "Epoch 27/30\n",
            "63/63 [==============================] - 7s 84ms/step - loss: 0.0809 - acc: 0.9715 - val_loss: 1.1671 - val_acc: 0.6810\n",
            "Epoch 28/30\n",
            "63/63 [==============================] - 7s 83ms/step - loss: 0.0901 - acc: 0.9740 - val_loss: 0.8448 - val_acc: 0.7350\n",
            "Epoch 29/30\n",
            "63/63 [==============================] - 7s 83ms/step - loss: 0.0657 - acc: 0.9825 - val_loss: 0.8215 - val_acc: 0.7390\n",
            "Epoch 30/30\n",
            "63/63 [==============================] - 7s 83ms/step - loss: 0.0619 - acc: 0.9800 - val_loss: 0.8167 - val_acc: 0.7300\n"
          ]
        }
      ]
    }
  ]
}