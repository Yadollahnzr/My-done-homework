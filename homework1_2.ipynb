{
  "nbformat": 4,
  "nbformat_minor": 0,
  "metadata": {
    "colab": {
      "name": "homework1_2.ipynb",
      "provenance": [],
      "collapsed_sections": []
    },
    "kernelspec": {
      "name": "python3",
      "display_name": "Python 3"
    },
    "language_info": {
      "name": "python"
    },
    "accelerator": "GPU"
  },
  "cells": [
    {
      "cell_type": "code",
      "execution_count": 150,
      "metadata": {
        "id": "p85kPoKQv4az"
      },
      "outputs": [],
      "source": [
        "import numpy as np\n",
        "from tensorflow import keras\n",
        "from sklearn.model_selection import train_test_split\n",
        "from keras.models import Sequential\n",
        "from keras.layers import Dense, Dropout"
      ]
    },
    {
      "cell_type": "code",
      "source": [
        "fashion_mnist = keras.datasets.fashion_mnist\n",
        "(train_images, train_labels), (test_images, test_labels) = fashion_mnist.load_data()"
      ],
      "metadata": {
        "id": "I879MvgWwm4t"
      },
      "execution_count": 151,
      "outputs": []
    },
    {
      "cell_type": "code",
      "source": [
        "number_of_classes = np.max(train_labels)+1\n",
        "print(number_of_classes)"
      ],
      "metadata": {
        "colab": {
          "base_uri": "https://localhost:8080/"
        },
        "id": "jFDZwYMFxCzs",
        "outputId": "cf175ca4-d7ce-459e-dc07-f4cd37aec93b"
      },
      "execution_count": 152,
      "outputs": [
        {
          "output_type": "stream",
          "name": "stdout",
          "text": [
            "10\n"
          ]
        }
      ]
    },
    {
      "cell_type": "code",
      "source": [
        "import matplotlib.pyplot as plt\n",
        "for index in range(10, 15):\n",
        "  plt.imshow(train_images[index], cmap='gray')"
      ],
      "metadata": {
        "colab": {
          "base_uri": "https://localhost:8080/",
          "height": 265
        },
        "id": "ruNXdVr-ywrN",
        "outputId": "1d52c542-52c6-4c6c-c40b-57cd428b65c3"
      },
      "execution_count": 153,
      "outputs": [
        {
          "output_type": "display_data",
          "data": {
            "image/png": "[encoded data removed]",
            "text/plain": [
              "<Figure size 432x288 with 1 Axes>"
            ]
          },
          "metadata": {
            "needs_background": "light"
          }
        }
      ]
    },
    {
      "cell_type": "code",
      "source": [
        "lbl_train= keras.utils.to_categorical(train_labels, num_classes= number_of_classes)\n",
        "lbl_test= keras.utils.to_categorical(test_labels, num_classes= number_of_classes)"
      ],
      "metadata": {
        "id": "Nw6FpHVePh03"
      },
      "execution_count": 154,
      "outputs": []
    },
    {
      "cell_type": "code",
      "source": [
        "img_train = train_images/255\n",
        "img_test = test_images/255\n",
        "img_train = [image.reshape(28*28) for image in img_train]\n",
        "img_test = [image.reshape(28*28) for image in img_test]\n",
        "img_train= np.array(img_train)\n",
        "img_test= np.array(img_test)"
      ],
      "metadata": {
        "id": "0qD7VXQZ3xhq"
      },
      "execution_count": 155,
      "outputs": []
    },
    {
      "cell_type": "code",
      "source": [
        "model = Sequential()\n",
        "model.add(Dense(100,activation='relu',input_dim=28*28))\n",
        "model.add(Dense(70,activation='relu'))\n",
        "model.add(Dropout(0.5))\n",
        "model.add(Dense(100,activation='relu'))\n",
        "model.add(Dropout(0.5))\n",
        "model.add(Dense(number_of_classes,activation='softmax'))\n",
        "model.summary()"
      ],
      "metadata": {
        "colab": {
          "base_uri": "https://localhost:8080/"
        },
        "id": "JM9DxIuR5xs0",
        "outputId": "feed3383-80f1-49b6-da5c-d765a67f1a84"
      },
      "execution_count": 180,
      "outputs": [
        {
          "output_type": "stream",
          "name": "stdout",
          "text": [
            "Model: \"sequential_23\"\n",
            "_________________________________________________________________\n",
            " Layer (type)                Output Shape              Param #   \n",
            "=================================================================\n",
            " dense_85 (Dense)            (None, 100)               78500     \n",
            "                                                                 \n",
            " dense_86 (Dense)            (None, 70)                7070      \n",
            "                                                                 \n",
            " dropout_24 (Dropout)        (None, 70)                0         \n",
            "                                                                 \n",
            " dense_87 (Dense)            (None, 100)               7100      \n",
            "                                                                 \n",
            " dropout_25 (Dropout)        (None, 100)               0         \n",
            "                                                                 \n",
            " dense_88 (Dense)            (None, 10)                1010      \n",
            "                                                                 \n",
            "=================================================================\n",
            "Total params: 93,680\n",
            "Trainable params: 93,680\n",
            "Non-trainable params: 0\n",
            "_________________________________________________________________\n"
          ]
        }
      ]
    },
    {
      "cell_type": "code",
      "source": [
        "optimizer = keras.optimizers.Adam(0.001)\n",
        "model.compile(optimizer , loss='categorical_crossentropy', metrics=['accuracy'])"
      ],
      "metadata": {
        "id": "5d5KSfM886C9"
      },
      "execution_count": 181,
      "outputs": []
    },
    {
      "cell_type": "code",
      "source": [
        "h = model.fit(img_train, lbl_train, batch_size= 64, epochs=200 ,validation_split=0.2)"
      ],
      "metadata": {
        "colab": {
          "base_uri": "https://localhost:8080/"
        },
        "id": "cLEb-GqJUWIe",
        "outputId": "eabb1e3c-7764-4efd-8612-abad39465286"
      },
      "execution_count": 182,
      "outputs": [
        {
          "output_type": "stream",
          "name": "stdout",
          "text": [
            "Epoch 1/200\n",
            "750/750 [==============================] - 4s 5ms/step - loss: 0.8388 - accuracy: 0.7022 - val_loss: 0.4739 - val_accuracy: 0.8290\n",
            "Epoch 2/200\n",
            "750/750 [==============================] - 3s 4ms/step - loss: 0.5307 - accuracy: 0.8188 - val_loss: 0.4484 - val_accuracy: 0.8307\n",
            "Epoch 3/200\n",
            "750/750 [==============================] - 3s 4ms/step - loss: 0.4730 - accuracy: 0.8389 - val_loss: 0.3864 - val_accuracy: 0.8588\n",
            "Epoch 4/200\n",
            "750/750 [==============================] - 3s 4ms/step - loss: 0.4304 - accuracy: 0.8519 - val_loss: 0.3694 - val_accuracy: 0.8642\n",
            "Epoch 5/200\n",
            "750/750 [==============================] - 3s 4ms/step - loss: 0.4123 - accuracy: 0.8577 - val_loss: 0.3691 - val_accuracy: 0.8663\n",
            "Epoch 6/200\n",
            "750/750 [==============================] - 3s 4ms/step - loss: 0.3946 - accuracy: 0.8621 - val_loss: 0.3565 - val_accuracy: 0.8731\n",
            "Epoch 7/200\n",
            "750/750 [==============================] - 3s 4ms/step - loss: 0.3765 - accuracy: 0.8701 - val_loss: 0.3560 - val_accuracy: 0.8729\n",
            "Epoch 8/200\n",
            "750/750 [==============================] - 3s 4ms/step - loss: 0.3646 - accuracy: 0.8730 - val_loss: 0.3542 - val_accuracy: 0.8752\n",
            "Epoch 9/200\n",
            "750/750 [==============================] - 3s 4ms/step - loss: 0.3512 - accuracy: 0.8786 - val_loss: 0.3377 - val_accuracy: 0.8792\n",
            "Epoch 10/200\n",
            "750/750 [==============================] - 3s 4ms/step - loss: 0.3425 - accuracy: 0.8785 - val_loss: 0.3392 - val_accuracy: 0.8751\n",
            "Epoch 11/200\n",
            "750/750 [==============================] - 3s 4ms/step - loss: 0.3367 - accuracy: 0.8824 - val_loss: 0.3545 - val_accuracy: 0.8717\n",
            "Epoch 12/200\n",
            "750/750 [==============================] - 3s 4ms/step - loss: 0.3331 - accuracy: 0.8834 - val_loss: 0.3453 - val_accuracy: 0.8792\n",
            "Epoch 13/200\n",
            "750/750 [==============================] - 3s 4ms/step - loss: 0.3219 - accuracy: 0.8869 - val_loss: 0.3372 - val_accuracy: 0.8770\n",
            "Epoch 14/200\n",
            "750/750 [==============================] - 4s 5ms/step - loss: 0.3166 - accuracy: 0.8891 - val_loss: 0.3475 - val_accuracy: 0.8801\n",
            "Epoch 15/200\n",
            "750/750 [==============================] - 3s 4ms/step - loss: 0.3135 - accuracy: 0.8899 - val_loss: 0.3341 - val_accuracy: 0.8829\n",
            "Epoch 16/200\n",
            "750/750 [==============================] - 3s 4ms/step - loss: 0.3103 - accuracy: 0.8905 - val_loss: 0.3493 - val_accuracy: 0.8779\n",
            "Epoch 17/200\n",
            "750/750 [==============================] - 3s 4ms/step - loss: 0.3031 - accuracy: 0.8949 - val_loss: 0.3394 - val_accuracy: 0.8800\n",
            "Epoch 18/200\n",
            "750/750 [==============================] - 3s 4ms/step - loss: 0.2961 - accuracy: 0.8946 - val_loss: 0.3455 - val_accuracy: 0.8802\n",
            "Epoch 19/200\n",
            "750/750 [==============================] - 3s 4ms/step - loss: 0.2934 - accuracy: 0.8976 - val_loss: 0.3351 - val_accuracy: 0.8843\n",
            "Epoch 20/200\n",
            "750/750 [==============================] - 3s 4ms/step - loss: 0.2879 - accuracy: 0.8986 - val_loss: 0.3391 - val_accuracy: 0.8828\n",
            "Epoch 21/200\n",
            "750/750 [==============================] - 3s 4ms/step - loss: 0.2843 - accuracy: 0.9004 - val_loss: 0.3387 - val_accuracy: 0.8841\n",
            "Epoch 22/200\n",
            "750/750 [==============================] - 3s 4ms/step - loss: 0.2804 - accuracy: 0.9023 - val_loss: 0.3300 - val_accuracy: 0.8852\n",
            "Epoch 23/200\n",
            "750/750 [==============================] - 3s 4ms/step - loss: 0.2723 - accuracy: 0.9026 - val_loss: 0.3412 - val_accuracy: 0.8854\n",
            "Epoch 24/200\n",
            "750/750 [==============================] - 3s 4ms/step - loss: 0.2744 - accuracy: 0.9029 - val_loss: 0.3542 - val_accuracy: 0.8840\n",
            "Epoch 25/200\n",
            "750/750 [==============================] - 3s 4ms/step - loss: 0.2691 - accuracy: 0.9057 - val_loss: 0.3492 - val_accuracy: 0.8859\n",
            "Epoch 26/200\n",
            "750/750 [==============================] - 3s 4ms/step - loss: 0.2678 - accuracy: 0.9062 - val_loss: 0.3372 - val_accuracy: 0.8872\n",
            "Epoch 27/200\n",
            "750/750 [==============================] - 3s 4ms/step - loss: 0.2583 - accuracy: 0.9090 - val_loss: 0.3381 - val_accuracy: 0.8873\n",
            "Epoch 28/200\n",
            "750/750 [==============================] - 3s 4ms/step - loss: 0.2592 - accuracy: 0.9077 - val_loss: 0.3610 - val_accuracy: 0.8796\n",
            "Epoch 29/200\n",
            "750/750 [==============================] - 3s 4ms/step - loss: 0.2604 - accuracy: 0.9090 - val_loss: 0.3372 - val_accuracy: 0.8844\n",
            "Epoch 30/200\n",
            "750/750 [==============================] - 3s 4ms/step - loss: 0.2557 - accuracy: 0.9097 - val_loss: 0.3587 - val_accuracy: 0.8853\n",
            "Epoch 31/200\n",
            "750/750 [==============================] - 3s 4ms/step - loss: 0.2485 - accuracy: 0.9120 - val_loss: 0.3513 - val_accuracy: 0.8861\n",
            "Epoch 32/200\n",
            "750/750 [==============================] - 3s 4ms/step - loss: 0.2522 - accuracy: 0.9111 - val_loss: 0.3469 - val_accuracy: 0.8852\n",
            "Epoch 33/200\n",
            "750/750 [==============================] - 3s 4ms/step - loss: 0.2500 - accuracy: 0.9119 - val_loss: 0.3486 - val_accuracy: 0.8856\n",
            "Epoch 34/200\n",
            "750/750 [==============================] - 3s 4ms/step - loss: 0.2447 - accuracy: 0.9146 - val_loss: 0.3348 - val_accuracy: 0.8889\n",
            "Epoch 35/200\n",
            "750/750 [==============================] - 3s 4ms/step - loss: 0.2415 - accuracy: 0.9140 - val_loss: 0.3431 - val_accuracy: 0.8881\n",
            "Epoch 36/200\n",
            "750/750 [==============================] - 3s 4ms/step - loss: 0.2379 - accuracy: 0.9145 - val_loss: 0.3463 - val_accuracy: 0.8878\n",
            "Epoch 37/200\n",
            "750/750 [==============================] - 3s 4ms/step - loss: 0.2385 - accuracy: 0.9152 - val_loss: 0.3623 - val_accuracy: 0.8828\n",
            "Epoch 38/200\n",
            "750/750 [==============================] - 3s 4ms/step - loss: 0.2389 - accuracy: 0.9162 - val_loss: 0.3609 - val_accuracy: 0.8877\n",
            "Epoch 39/200\n",
            "750/750 [==============================] - 3s 4ms/step - loss: 0.2333 - accuracy: 0.9161 - val_loss: 0.3704 - val_accuracy: 0.8863\n",
            "Epoch 40/200\n",
            "750/750 [==============================] - 3s 4ms/step - loss: 0.2304 - accuracy: 0.9188 - val_loss: 0.3735 - val_accuracy: 0.8827\n",
            "Epoch 41/200\n",
            "750/750 [==============================] - 3s 4ms/step - loss: 0.2332 - accuracy: 0.9179 - val_loss: 0.3880 - val_accuracy: 0.8852\n",
            "Epoch 42/200\n",
            "750/750 [==============================] - 3s 4ms/step - loss: 0.2280 - accuracy: 0.9192 - val_loss: 0.3651 - val_accuracy: 0.8844\n",
            "Epoch 43/200\n",
            "750/750 [==============================] - 3s 4ms/step - loss: 0.2283 - accuracy: 0.9202 - val_loss: 0.3799 - val_accuracy: 0.8848\n",
            "Epoch 44/200\n",
            "750/750 [==============================] - 3s 4ms/step - loss: 0.2269 - accuracy: 0.9196 - val_loss: 0.3626 - val_accuracy: 0.8885\n",
            "Epoch 45/200\n",
            "750/750 [==============================] - 3s 4ms/step - loss: 0.2252 - accuracy: 0.9204 - val_loss: 0.3630 - val_accuracy: 0.8839\n",
            "Epoch 46/200\n",
            "750/750 [==============================] - 3s 4ms/step - loss: 0.2238 - accuracy: 0.9214 - val_loss: 0.3704 - val_accuracy: 0.8889\n",
            "Epoch 47/200\n",
            "750/750 [==============================] - 3s 4ms/step - loss: 0.2193 - accuracy: 0.9218 - val_loss: 0.4133 - val_accuracy: 0.8804\n",
            "Epoch 48/200\n",
            "750/750 [==============================] - 3s 4ms/step - loss: 0.2164 - accuracy: 0.9221 - val_loss: 0.3952 - val_accuracy: 0.8850\n",
            "Epoch 49/200\n",
            "750/750 [==============================] - 3s 4ms/step - loss: 0.2159 - accuracy: 0.9223 - val_loss: 0.3748 - val_accuracy: 0.8849\n",
            "Epoch 50/200\n",
            "750/750 [==============================] - 3s 4ms/step - loss: 0.2149 - accuracy: 0.9230 - val_loss: 0.3644 - val_accuracy: 0.8910\n",
            "Epoch 51/200\n",
            "750/750 [==============================] - 3s 4ms/step - loss: 0.2125 - accuracy: 0.9252 - val_loss: 0.3759 - val_accuracy: 0.8887\n",
            "Epoch 52/200\n",
            "750/750 [==============================] - 3s 4ms/step - loss: 0.2087 - accuracy: 0.9254 - val_loss: 0.4160 - val_accuracy: 0.8815\n",
            "Epoch 53/200\n",
            "750/750 [==============================] - 3s 4ms/step - loss: 0.2115 - accuracy: 0.9249 - val_loss: 0.3935 - val_accuracy: 0.8883\n",
            "Epoch 54/200\n",
            "750/750 [==============================] - 3s 4ms/step - loss: 0.2073 - accuracy: 0.9258 - val_loss: 0.4000 - val_accuracy: 0.8866\n",
            "Epoch 55/200\n",
            "750/750 [==============================] - 3s 4ms/step - loss: 0.2042 - accuracy: 0.9278 - val_loss: 0.3788 - val_accuracy: 0.8884\n",
            "Epoch 56/200\n",
            "750/750 [==============================] - 3s 4ms/step - loss: 0.2097 - accuracy: 0.9264 - val_loss: 0.3791 - val_accuracy: 0.8866\n",
            "Epoch 57/200\n",
            "750/750 [==============================] - 3s 4ms/step - loss: 0.2085 - accuracy: 0.9268 - val_loss: 0.3946 - val_accuracy: 0.8872\n",
            "Epoch 58/200\n",
            "750/750 [==============================] - 3s 4ms/step - loss: 0.2025 - accuracy: 0.9286 - val_loss: 0.4148 - val_accuracy: 0.8855\n",
            "Epoch 59/200\n",
            "750/750 [==============================] - 3s 4ms/step - loss: 0.2029 - accuracy: 0.9266 - val_loss: 0.3882 - val_accuracy: 0.8879\n",
            "Epoch 60/200\n",
            "750/750 [==============================] - 3s 4ms/step - loss: 0.2011 - accuracy: 0.9294 - val_loss: 0.3868 - val_accuracy: 0.8863\n",
            "Epoch 61/200\n",
            "750/750 [==============================] - 3s 4ms/step - loss: 0.2013 - accuracy: 0.9280 - val_loss: 0.3869 - val_accuracy: 0.8883\n",
            "Epoch 62/200\n",
            "750/750 [==============================] - 3s 4ms/step - loss: 0.1986 - accuracy: 0.9292 - val_loss: 0.4050 - val_accuracy: 0.8871\n",
            "Epoch 63/200\n",
            "750/750 [==============================] - 3s 4ms/step - loss: 0.1959 - accuracy: 0.9308 - val_loss: 0.4089 - val_accuracy: 0.8901\n",
            "Epoch 64/200\n",
            "750/750 [==============================] - 3s 4ms/step - loss: 0.2001 - accuracy: 0.9296 - val_loss: 0.3903 - val_accuracy: 0.8917\n",
            "Epoch 65/200\n",
            "750/750 [==============================] - 3s 4ms/step - loss: 0.1935 - accuracy: 0.9314 - val_loss: 0.4107 - val_accuracy: 0.8898\n",
            "Epoch 66/200\n",
            "750/750 [==============================] - 3s 4ms/step - loss: 0.1918 - accuracy: 0.9308 - val_loss: 0.4330 - val_accuracy: 0.8838\n",
            "Epoch 67/200\n",
            "750/750 [==============================] - 3s 4ms/step - loss: 0.1929 - accuracy: 0.9314 - val_loss: 0.4239 - val_accuracy: 0.8835\n",
            "Epoch 68/200\n",
            "750/750 [==============================] - 3s 4ms/step - loss: 0.1927 - accuracy: 0.9307 - val_loss: 0.4228 - val_accuracy: 0.8895\n",
            "Epoch 69/200\n",
            "750/750 [==============================] - 3s 4ms/step - loss: 0.1861 - accuracy: 0.9314 - val_loss: 0.4058 - val_accuracy: 0.8881\n",
            "Epoch 70/200\n",
            "750/750 [==============================] - 3s 4ms/step - loss: 0.1892 - accuracy: 0.9326 - val_loss: 0.4020 - val_accuracy: 0.8827\n",
            "Epoch 71/200\n",
            "750/750 [==============================] - 3s 4ms/step - loss: 0.1884 - accuracy: 0.9330 - val_loss: 0.4129 - val_accuracy: 0.8857\n",
            "Epoch 72/200\n",
            "750/750 [==============================] - 3s 4ms/step - loss: 0.1915 - accuracy: 0.9323 - val_loss: 0.3964 - val_accuracy: 0.8857\n",
            "Epoch 73/200\n",
            "750/750 [==============================] - 3s 4ms/step - loss: 0.1833 - accuracy: 0.9348 - val_loss: 0.4016 - val_accuracy: 0.8918\n",
            "Epoch 74/200\n",
            "750/750 [==============================] - 3s 4ms/step - loss: 0.1786 - accuracy: 0.9361 - val_loss: 0.4220 - val_accuracy: 0.8890\n",
            "Epoch 75/200\n",
            "750/750 [==============================] - 3s 4ms/step - loss: 0.1840 - accuracy: 0.9349 - val_loss: 0.4291 - val_accuracy: 0.8840\n",
            "Epoch 76/200\n",
            "750/750 [==============================] - 3s 4ms/step - loss: 0.1831 - accuracy: 0.9347 - val_loss: 0.4723 - val_accuracy: 0.8863\n",
            "Epoch 77/200\n",
            "750/750 [==============================] - 3s 4ms/step - loss: 0.1798 - accuracy: 0.9355 - val_loss: 0.4817 - val_accuracy: 0.8851\n",
            "Epoch 78/200\n",
            "750/750 [==============================] - 3s 4ms/step - loss: 0.1809 - accuracy: 0.9362 - val_loss: 0.4258 - val_accuracy: 0.8876\n",
            "Epoch 79/200\n",
            "750/750 [==============================] - 3s 4ms/step - loss: 0.1786 - accuracy: 0.9362 - val_loss: 0.4368 - val_accuracy: 0.8835\n",
            "Epoch 80/200\n",
            "750/750 [==============================] - 3s 4ms/step - loss: 0.1771 - accuracy: 0.9375 - val_loss: 0.4548 - val_accuracy: 0.8860\n",
            "Epoch 81/200\n",
            "750/750 [==============================] - 3s 4ms/step - loss: 0.1786 - accuracy: 0.9370 - val_loss: 0.4272 - val_accuracy: 0.8884\n",
            "Epoch 82/200\n",
            "750/750 [==============================] - 3s 4ms/step - loss: 0.1797 - accuracy: 0.9364 - val_loss: 0.4450 - val_accuracy: 0.8857\n",
            "Epoch 83/200\n",
            "750/750 [==============================] - 3s 4ms/step - loss: 0.1753 - accuracy: 0.9378 - val_loss: 0.4466 - val_accuracy: 0.8835\n",
            "Epoch 84/200\n",
            "750/750 [==============================] - 3s 4ms/step - loss: 0.1752 - accuracy: 0.9384 - val_loss: 0.4391 - val_accuracy: 0.8879\n",
            "Epoch 85/200\n",
            "750/750 [==============================] - 3s 4ms/step - loss: 0.1745 - accuracy: 0.9377 - val_loss: 0.4264 - val_accuracy: 0.8894\n",
            "Epoch 86/200\n",
            "750/750 [==============================] - 3s 4ms/step - loss: 0.1742 - accuracy: 0.9385 - val_loss: 0.4461 - val_accuracy: 0.8892\n",
            "Epoch 87/200\n",
            "750/750 [==============================] - 3s 4ms/step - loss: 0.1690 - accuracy: 0.9413 - val_loss: 0.4552 - val_accuracy: 0.8808\n",
            "Epoch 88/200\n",
            "750/750 [==============================] - 3s 4ms/step - loss: 0.1693 - accuracy: 0.9406 - val_loss: 0.4420 - val_accuracy: 0.8878\n",
            "Epoch 89/200\n",
            "750/750 [==============================] - 3s 4ms/step - loss: 0.1678 - accuracy: 0.9401 - val_loss: 0.5055 - val_accuracy: 0.8838\n",
            "Epoch 90/200\n",
            "750/750 [==============================] - 3s 4ms/step - loss: 0.1758 - accuracy: 0.9396 - val_loss: 0.4297 - val_accuracy: 0.8865\n",
            "Epoch 91/200\n",
            "750/750 [==============================] - 3s 5ms/step - loss: 0.1643 - accuracy: 0.9417 - val_loss: 0.4789 - val_accuracy: 0.8846\n",
            "Epoch 92/200\n",
            "750/750 [==============================] - 3s 5ms/step - loss: 0.1694 - accuracy: 0.9404 - val_loss: 0.4537 - val_accuracy: 0.8851\n",
            "Epoch 93/200\n",
            "750/750 [==============================] - 3s 4ms/step - loss: 0.1602 - accuracy: 0.9431 - val_loss: 0.4637 - val_accuracy: 0.8854\n",
            "Epoch 94/200\n",
            "750/750 [==============================] - 3s 4ms/step - loss: 0.1651 - accuracy: 0.9421 - val_loss: 0.4656 - val_accuracy: 0.8848\n",
            "Epoch 95/200\n",
            "750/750 [==============================] - 3s 4ms/step - loss: 0.1687 - accuracy: 0.9409 - val_loss: 0.4725 - val_accuracy: 0.8893\n",
            "Epoch 96/200\n",
            "750/750 [==============================] - 3s 4ms/step - loss: 0.1625 - accuracy: 0.9423 - val_loss: 0.4867 - val_accuracy: 0.8855\n",
            "Epoch 97/200\n",
            "750/750 [==============================] - 3s 4ms/step - loss: 0.1653 - accuracy: 0.9414 - val_loss: 0.4335 - val_accuracy: 0.8865\n",
            "Epoch 98/200\n",
            "750/750 [==============================] - 3s 4ms/step - loss: 0.1593 - accuracy: 0.9431 - val_loss: 0.5018 - val_accuracy: 0.8861\n",
            "Epoch 99/200\n",
            "750/750 [==============================] - 3s 4ms/step - loss: 0.1597 - accuracy: 0.9427 - val_loss: 0.4851 - val_accuracy: 0.8874\n",
            "Epoch 100/200\n",
            "750/750 [==============================] - 3s 4ms/step - loss: 0.1641 - accuracy: 0.9418 - val_loss: 0.4723 - val_accuracy: 0.8870\n",
            "Epoch 101/200\n",
            "750/750 [==============================] - 3s 4ms/step - loss: 0.1612 - accuracy: 0.9427 - val_loss: 0.4636 - val_accuracy: 0.8889\n",
            "Epoch 102/200\n",
            "750/750 [==============================] - 3s 4ms/step - loss: 0.1606 - accuracy: 0.9443 - val_loss: 0.4849 - val_accuracy: 0.8886\n",
            "Epoch 103/200\n",
            "750/750 [==============================] - 3s 4ms/step - loss: 0.1539 - accuracy: 0.9451 - val_loss: 0.5177 - val_accuracy: 0.8820\n",
            "Epoch 104/200\n",
            "750/750 [==============================] - 3s 4ms/step - loss: 0.1576 - accuracy: 0.9442 - val_loss: 0.4897 - val_accuracy: 0.8855\n",
            "Epoch 105/200\n",
            "750/750 [==============================] - 3s 4ms/step - loss: 0.1602 - accuracy: 0.9440 - val_loss: 0.5139 - val_accuracy: 0.8825\n",
            "Epoch 106/200\n",
            "750/750 [==============================] - 3s 4ms/step - loss: 0.1564 - accuracy: 0.9455 - val_loss: 0.5235 - val_accuracy: 0.8815\n",
            "Epoch 107/200\n",
            "750/750 [==============================] - 3s 4ms/step - loss: 0.1564 - accuracy: 0.9449 - val_loss: 0.5022 - val_accuracy: 0.8878\n",
            "Epoch 108/200\n",
            "750/750 [==============================] - 3s 4ms/step - loss: 0.1549 - accuracy: 0.9439 - val_loss: 0.4886 - val_accuracy: 0.8883\n",
            "Epoch 109/200\n",
            "750/750 [==============================] - 3s 4ms/step - loss: 0.1512 - accuracy: 0.9459 - val_loss: 0.4804 - val_accuracy: 0.8872\n",
            "Epoch 110/200\n",
            "750/750 [==============================] - 3s 4ms/step - loss: 0.1546 - accuracy: 0.9450 - val_loss: 0.5166 - val_accuracy: 0.8827\n",
            "Epoch 111/200\n",
            "750/750 [==============================] - 3s 4ms/step - loss: 0.1530 - accuracy: 0.9452 - val_loss: 0.4933 - val_accuracy: 0.8887\n",
            "Epoch 112/200\n",
            "750/750 [==============================] - 3s 5ms/step - loss: 0.1565 - accuracy: 0.9459 - val_loss: 0.5496 - val_accuracy: 0.8777\n",
            "Epoch 113/200\n",
            "750/750 [==============================] - 3s 4ms/step - loss: 0.1510 - accuracy: 0.9465 - val_loss: 0.5008 - val_accuracy: 0.8888\n",
            "Epoch 114/200\n",
            "750/750 [==============================] - 3s 4ms/step - loss: 0.1583 - accuracy: 0.9450 - val_loss: 0.5152 - val_accuracy: 0.8851\n",
            "Epoch 115/200\n",
            "750/750 [==============================] - 3s 4ms/step - loss: 0.1479 - accuracy: 0.9473 - val_loss: 0.5082 - val_accuracy: 0.8817\n",
            "Epoch 116/200\n",
            "750/750 [==============================] - 3s 5ms/step - loss: 0.1499 - accuracy: 0.9466 - val_loss: 0.4787 - val_accuracy: 0.8898\n",
            "Epoch 117/200\n",
            "750/750 [==============================] - 3s 4ms/step - loss: 0.1480 - accuracy: 0.9477 - val_loss: 0.5018 - val_accuracy: 0.8880\n",
            "Epoch 118/200\n",
            "750/750 [==============================] - 3s 4ms/step - loss: 0.1464 - accuracy: 0.9481 - val_loss: 0.5204 - val_accuracy: 0.8871\n",
            "Epoch 119/200\n",
            "750/750 [==============================] - 3s 4ms/step - loss: 0.1457 - accuracy: 0.9498 - val_loss: 0.5023 - val_accuracy: 0.8860\n",
            "Epoch 120/200\n",
            "750/750 [==============================] - 3s 4ms/step - loss: 0.1458 - accuracy: 0.9482 - val_loss: 0.5114 - val_accuracy: 0.8851\n",
            "Epoch 121/200\n",
            "750/750 [==============================] - 3s 4ms/step - loss: 0.1537 - accuracy: 0.9462 - val_loss: 0.5006 - val_accuracy: 0.8871\n",
            "Epoch 122/200\n",
            "750/750 [==============================] - 3s 4ms/step - loss: 0.1441 - accuracy: 0.9487 - val_loss: 0.4994 - val_accuracy: 0.8862\n",
            "Epoch 123/200\n",
            "750/750 [==============================] - 3s 4ms/step - loss: 0.1513 - accuracy: 0.9466 - val_loss: 0.5192 - val_accuracy: 0.8822\n",
            "Epoch 124/200\n",
            "750/750 [==============================] - 3s 4ms/step - loss: 0.1481 - accuracy: 0.9470 - val_loss: 0.4962 - val_accuracy: 0.8878\n",
            "Epoch 125/200\n",
            "750/750 [==============================] - 3s 4ms/step - loss: 0.1411 - accuracy: 0.9507 - val_loss: 0.5365 - val_accuracy: 0.8857\n",
            "Epoch 126/200\n",
            "750/750 [==============================] - 3s 4ms/step - loss: 0.1435 - accuracy: 0.9486 - val_loss: 0.5566 - val_accuracy: 0.8860\n",
            "Epoch 127/200\n",
            "750/750 [==============================] - 3s 4ms/step - loss: 0.1421 - accuracy: 0.9492 - val_loss: 0.5280 - val_accuracy: 0.8880\n",
            "Epoch 128/200\n",
            "750/750 [==============================] - 3s 4ms/step - loss: 0.1462 - accuracy: 0.9498 - val_loss: 0.5365 - val_accuracy: 0.8813\n",
            "Epoch 129/200\n",
            "750/750 [==============================] - 3s 4ms/step - loss: 0.1386 - accuracy: 0.9505 - val_loss: 0.5088 - val_accuracy: 0.8841\n",
            "Epoch 130/200\n",
            "750/750 [==============================] - 3s 4ms/step - loss: 0.1427 - accuracy: 0.9501 - val_loss: 0.5282 - val_accuracy: 0.8861\n",
            "Epoch 131/200\n",
            "750/750 [==============================] - 3s 4ms/step - loss: 0.1441 - accuracy: 0.9505 - val_loss: 0.5511 - val_accuracy: 0.8865\n",
            "Epoch 132/200\n",
            "750/750 [==============================] - 3s 5ms/step - loss: 0.1426 - accuracy: 0.9497 - val_loss: 0.5211 - val_accuracy: 0.8860\n",
            "Epoch 133/200\n",
            "750/750 [==============================] - 3s 4ms/step - loss: 0.1357 - accuracy: 0.9527 - val_loss: 0.5895 - val_accuracy: 0.8849\n",
            "Epoch 134/200\n",
            "750/750 [==============================] - 3s 4ms/step - loss: 0.1468 - accuracy: 0.9496 - val_loss: 0.5395 - val_accuracy: 0.8880\n",
            "Epoch 135/200\n",
            "750/750 [==============================] - 3s 5ms/step - loss: 0.1370 - accuracy: 0.9519 - val_loss: 0.5671 - val_accuracy: 0.8862\n",
            "Epoch 136/200\n",
            "750/750 [==============================] - 3s 4ms/step - loss: 0.1384 - accuracy: 0.9513 - val_loss: 0.5464 - val_accuracy: 0.8863\n",
            "Epoch 137/200\n",
            "750/750 [==============================] - 3s 5ms/step - loss: 0.1401 - accuracy: 0.9505 - val_loss: 0.5385 - val_accuracy: 0.8852\n",
            "Epoch 138/200\n",
            "750/750 [==============================] - 3s 4ms/step - loss: 0.1373 - accuracy: 0.9519 - val_loss: 0.5617 - val_accuracy: 0.8828\n",
            "Epoch 139/200\n",
            "750/750 [==============================] - 3s 5ms/step - loss: 0.1402 - accuracy: 0.9511 - val_loss: 0.5467 - val_accuracy: 0.8842\n",
            "Epoch 140/200\n",
            "750/750 [==============================] - 3s 4ms/step - loss: 0.1366 - accuracy: 0.9518 - val_loss: 0.5533 - val_accuracy: 0.8860\n",
            "Epoch 141/200\n",
            "750/750 [==============================] - 3s 4ms/step - loss: 0.1378 - accuracy: 0.9511 - val_loss: 0.5255 - val_accuracy: 0.8894\n",
            "Epoch 142/200\n",
            "750/750 [==============================] - 3s 4ms/step - loss: 0.1351 - accuracy: 0.9530 - val_loss: 0.5453 - val_accuracy: 0.8848\n",
            "Epoch 143/200\n",
            "750/750 [==============================] - 3s 5ms/step - loss: 0.1374 - accuracy: 0.9515 - val_loss: 0.5588 - val_accuracy: 0.8878\n",
            "Epoch 144/200\n",
            "750/750 [==============================] - 3s 5ms/step - loss: 0.1366 - accuracy: 0.9529 - val_loss: 0.5581 - val_accuracy: 0.8838\n",
            "Epoch 145/200\n",
            "750/750 [==============================] - 3s 5ms/step - loss: 0.1325 - accuracy: 0.9535 - val_loss: 0.5493 - val_accuracy: 0.8861\n",
            "Epoch 146/200\n",
            "750/750 [==============================] - 3s 4ms/step - loss: 0.1360 - accuracy: 0.9543 - val_loss: 0.5463 - val_accuracy: 0.8832\n",
            "Epoch 147/200\n",
            "750/750 [==============================] - 3s 5ms/step - loss: 0.1361 - accuracy: 0.9520 - val_loss: 0.5921 - val_accuracy: 0.8845\n",
            "Epoch 148/200\n",
            "750/750 [==============================] - 3s 5ms/step - loss: 0.1348 - accuracy: 0.9540 - val_loss: 0.6001 - val_accuracy: 0.8794\n",
            "Epoch 149/200\n",
            "750/750 [==============================] - 3s 4ms/step - loss: 0.1386 - accuracy: 0.9523 - val_loss: 0.5512 - val_accuracy: 0.8864\n",
            "Epoch 150/200\n",
            "750/750 [==============================] - 3s 4ms/step - loss: 0.1259 - accuracy: 0.9551 - val_loss: 0.5535 - val_accuracy: 0.8858\n",
            "Epoch 151/200\n",
            "750/750 [==============================] - 3s 4ms/step - loss: 0.1261 - accuracy: 0.9547 - val_loss: 0.5804 - val_accuracy: 0.8837\n",
            "Epoch 152/200\n",
            "750/750 [==============================] - 3s 4ms/step - loss: 0.1348 - accuracy: 0.9535 - val_loss: 0.5783 - val_accuracy: 0.8828\n",
            "Epoch 153/200\n",
            "750/750 [==============================] - 3s 4ms/step - loss: 0.1297 - accuracy: 0.9546 - val_loss: 0.6199 - val_accuracy: 0.8878\n",
            "Epoch 154/200\n",
            "750/750 [==============================] - 3s 4ms/step - loss: 0.1306 - accuracy: 0.9545 - val_loss: 0.6022 - val_accuracy: 0.8853\n",
            "Epoch 155/200\n",
            "750/750 [==============================] - 3s 4ms/step - loss: 0.1308 - accuracy: 0.9557 - val_loss: 0.5381 - val_accuracy: 0.8873\n",
            "Epoch 156/200\n",
            "750/750 [==============================] - 3s 5ms/step - loss: 0.1266 - accuracy: 0.9559 - val_loss: 0.5999 - val_accuracy: 0.8892\n",
            "Epoch 157/200\n",
            "750/750 [==============================] - 3s 4ms/step - loss: 0.1340 - accuracy: 0.9533 - val_loss: 0.5956 - val_accuracy: 0.8841\n",
            "Epoch 158/200\n",
            "750/750 [==============================] - 3s 4ms/step - loss: 0.1270 - accuracy: 0.9562 - val_loss: 0.6057 - val_accuracy: 0.8803\n",
            "Epoch 159/200\n",
            "750/750 [==============================] - 3s 4ms/step - loss: 0.1310 - accuracy: 0.9546 - val_loss: 0.5672 - val_accuracy: 0.8855\n",
            "Epoch 160/200\n",
            "750/750 [==============================] - 3s 4ms/step - loss: 0.1377 - accuracy: 0.9532 - val_loss: 0.5589 - val_accuracy: 0.8867\n",
            "Epoch 161/200\n",
            "750/750 [==============================] - 3s 5ms/step - loss: 0.1199 - accuracy: 0.9578 - val_loss: 0.6115 - val_accuracy: 0.8861\n",
            "Epoch 162/200\n",
            "750/750 [==============================] - 3s 4ms/step - loss: 0.1278 - accuracy: 0.9560 - val_loss: 0.6031 - val_accuracy: 0.8846\n",
            "Epoch 163/200\n",
            "750/750 [==============================] - 3s 5ms/step - loss: 0.1256 - accuracy: 0.9570 - val_loss: 0.6408 - val_accuracy: 0.8801\n",
            "Epoch 164/200\n",
            "750/750 [==============================] - 3s 4ms/step - loss: 0.1232 - accuracy: 0.9565 - val_loss: 0.6205 - val_accuracy: 0.8840\n",
            "Epoch 165/200\n",
            "750/750 [==============================] - 3s 4ms/step - loss: 0.1215 - accuracy: 0.9576 - val_loss: 0.6172 - val_accuracy: 0.8847\n",
            "Epoch 166/200\n",
            "750/750 [==============================] - 3s 4ms/step - loss: 0.1270 - accuracy: 0.9553 - val_loss: 0.6470 - val_accuracy: 0.8801\n",
            "Epoch 167/200\n",
            "750/750 [==============================] - 3s 5ms/step - loss: 0.1302 - accuracy: 0.9546 - val_loss: 0.5851 - val_accuracy: 0.8813\n",
            "Epoch 168/200\n",
            "750/750 [==============================] - 3s 4ms/step - loss: 0.1262 - accuracy: 0.9572 - val_loss: 0.6089 - val_accuracy: 0.8827\n",
            "Epoch 169/200\n",
            "750/750 [==============================] - 3s 4ms/step - loss: 0.1273 - accuracy: 0.9568 - val_loss: 0.5824 - val_accuracy: 0.8832\n",
            "Epoch 170/200\n",
            "750/750 [==============================] - 3s 4ms/step - loss: 0.1220 - accuracy: 0.9570 - val_loss: 0.5963 - val_accuracy: 0.8848\n",
            "Epoch 171/200\n",
            "750/750 [==============================] - 3s 4ms/step - loss: 0.1205 - accuracy: 0.9585 - val_loss: 0.6277 - val_accuracy: 0.8886\n",
            "Epoch 172/200\n",
            "750/750 [==============================] - 3s 4ms/step - loss: 0.1238 - accuracy: 0.9572 - val_loss: 0.6286 - val_accuracy: 0.8868\n",
            "Epoch 173/200\n",
            "750/750 [==============================] - 3s 4ms/step - loss: 0.1246 - accuracy: 0.9569 - val_loss: 0.6295 - val_accuracy: 0.8832\n",
            "Epoch 174/200\n",
            "750/750 [==============================] - 3s 5ms/step - loss: 0.1228 - accuracy: 0.9579 - val_loss: 0.6053 - val_accuracy: 0.8866\n",
            "Epoch 175/200\n",
            "750/750 [==============================] - 3s 5ms/step - loss: 0.1236 - accuracy: 0.9580 - val_loss: 0.6182 - val_accuracy: 0.8783\n",
            "Epoch 176/200\n",
            "750/750 [==============================] - 3s 4ms/step - loss: 0.1180 - accuracy: 0.9581 - val_loss: 0.6370 - val_accuracy: 0.8843\n",
            "Epoch 177/200\n",
            "750/750 [==============================] - 3s 5ms/step - loss: 0.1258 - accuracy: 0.9565 - val_loss: 0.6209 - val_accuracy: 0.8822\n",
            "Epoch 178/200\n",
            "750/750 [==============================] - 3s 5ms/step - loss: 0.1189 - accuracy: 0.9583 - val_loss: 0.5970 - val_accuracy: 0.8822\n",
            "Epoch 179/200\n",
            "750/750 [==============================] - 3s 4ms/step - loss: 0.1185 - accuracy: 0.9598 - val_loss: 0.6462 - val_accuracy: 0.8838\n",
            "Epoch 180/200\n",
            "750/750 [==============================] - 3s 4ms/step - loss: 0.1194 - accuracy: 0.9573 - val_loss: 0.6175 - val_accuracy: 0.8832\n",
            "Epoch 181/200\n",
            "750/750 [==============================] - 4s 5ms/step - loss: 0.1186 - accuracy: 0.9580 - val_loss: 0.6473 - val_accuracy: 0.8869\n",
            "Epoch 182/200\n",
            "750/750 [==============================] - 3s 5ms/step - loss: 0.1218 - accuracy: 0.9579 - val_loss: 0.6380 - val_accuracy: 0.8813\n",
            "Epoch 183/200\n",
            "750/750 [==============================] - 3s 4ms/step - loss: 0.1208 - accuracy: 0.9590 - val_loss: 0.6013 - val_accuracy: 0.8857\n",
            "Epoch 184/200\n",
            "750/750 [==============================] - 3s 5ms/step - loss: 0.1187 - accuracy: 0.9587 - val_loss: 0.6290 - val_accuracy: 0.8873\n",
            "Epoch 185/200\n",
            "750/750 [==============================] - 3s 5ms/step - loss: 0.1153 - accuracy: 0.9591 - val_loss: 0.6041 - val_accuracy: 0.8853\n",
            "Epoch 186/200\n",
            "750/750 [==============================] - 3s 5ms/step - loss: 0.1225 - accuracy: 0.9584 - val_loss: 0.6234 - val_accuracy: 0.8853\n",
            "Epoch 187/200\n",
            "750/750 [==============================] - 3s 4ms/step - loss: 0.1143 - accuracy: 0.9604 - val_loss: 0.6790 - val_accuracy: 0.8827\n",
            "Epoch 188/200\n",
            "750/750 [==============================] - 3s 4ms/step - loss: 0.1113 - accuracy: 0.9598 - val_loss: 0.6396 - val_accuracy: 0.8816\n",
            "Epoch 189/200\n",
            "750/750 [==============================] - 3s 4ms/step - loss: 0.1214 - accuracy: 0.9576 - val_loss: 0.6540 - val_accuracy: 0.8823\n",
            "Epoch 190/200\n",
            "750/750 [==============================] - 3s 4ms/step - loss: 0.1182 - accuracy: 0.9595 - val_loss: 0.6303 - val_accuracy: 0.8792\n",
            "Epoch 191/200\n",
            "750/750 [==============================] - 3s 5ms/step - loss: 0.1173 - accuracy: 0.9601 - val_loss: 0.6377 - val_accuracy: 0.8832\n",
            "Epoch 192/200\n",
            "750/750 [==============================] - 3s 4ms/step - loss: 0.1145 - accuracy: 0.9615 - val_loss: 0.6106 - val_accuracy: 0.8830\n",
            "Epoch 193/200\n",
            "750/750 [==============================] - 3s 5ms/step - loss: 0.1147 - accuracy: 0.9599 - val_loss: 0.6657 - val_accuracy: 0.8829\n",
            "Epoch 194/200\n",
            "750/750 [==============================] - 3s 5ms/step - loss: 0.1166 - accuracy: 0.9593 - val_loss: 0.6370 - val_accuracy: 0.8825\n",
            "Epoch 195/200\n",
            "750/750 [==============================] - 3s 4ms/step - loss: 0.1164 - accuracy: 0.9599 - val_loss: 0.6396 - val_accuracy: 0.8777\n",
            "Epoch 196/200\n",
            "750/750 [==============================] - 3s 4ms/step - loss: 0.1156 - accuracy: 0.9598 - val_loss: 0.6524 - val_accuracy: 0.8863\n",
            "Epoch 197/200\n",
            "750/750 [==============================] - 3s 4ms/step - loss: 0.1212 - accuracy: 0.9592 - val_loss: 0.5981 - val_accuracy: 0.8832\n",
            "Epoch 198/200\n",
            "750/750 [==============================] - 3s 4ms/step - loss: 0.1147 - accuracy: 0.9624 - val_loss: 0.6633 - val_accuracy: 0.8805\n",
            "Epoch 199/200\n",
            "750/750 [==============================] - 3s 4ms/step - loss: 0.1177 - accuracy: 0.9596 - val_loss: 0.6591 - val_accuracy: 0.8862\n",
            "Epoch 200/200\n",
            "750/750 [==============================] - 3s 5ms/step - loss: 0.1129 - accuracy: 0.9610 - val_loss: 0.6586 - val_accuracy: 0.8829\n"
          ]
        }
      ]
    },
    {
      "cell_type": "code",
      "source": [
        "model.evaluate(img_test,lbl_test)"
      ],
      "metadata": {
        "colab": {
          "base_uri": "https://localhost:8080/"
        },
        "id": "g39-IzR0FzMB",
        "outputId": "6f1a4952-143a-42d3-9f4e-eb1d2b76cf2c"
      },
      "execution_count": 183,
      "outputs": [
        {
          "output_type": "stream",
          "name": "stdout",
          "text": [
            "313/313 [==============================] - 1s 3ms/step - loss: 0.6926 - accuracy: 0.8789\n"
          ]
        },
        {
          "output_type": "execute_result",
          "data": {
            "text/plain": [
              "[0.6925557851791382, 0.8788999915122986]"
            ]
          },
          "metadata": {},
          "execution_count": 183
        }
      ]
    },
    {
      "cell_type": "code",
      "source": [
        "plt.plot(h.history['loss'])"
      ],
      "metadata": {
        "colab": {
          "base_uri": "https://localhost:8080/",
          "height": 282
        },
        "id": "f9umpzDwLnb7",
        "outputId": "c922039a-9ff9-4773-8502-053e96c18d46"
      },
      "execution_count": 184,
      "outputs": [
        {
          "output_type": "execute_result",
          "data": {
            "text/plain": [
              "[<matplotlib.lines.Line2D at 0x7f4053303890>]"
            ]
          },
          "metadata": {},
          "execution_count": 184
        },
        {
          "output_type": "display_data",
          "data": {
            "image/png": "[encoded data removed]",
            "text/plain": [
              "<Figure size 432x288 with 1 Axes>"
            ]
          },
          "metadata": {
            "needs_background": "light"
          }
        }
      ]
    },
    {
      "cell_type": "code",
      "source": [
        "plt.plot(h.history['accuracy'])"
      ],
      "metadata": {
        "colab": {
          "base_uri": "https://localhost:8080/",
          "height": 282
        },
        "id": "sHbi-5sXXYWi",
        "outputId": "3595ec10-225c-4075-a727-e9dce718ac64"
      },
      "execution_count": 185,
      "outputs": [
        {
          "output_type": "execute_result",
          "data": {
            "text/plain": [
              "[<matplotlib.lines.Line2D at 0x7f4053c69410>]"
            ]
          },
          "metadata": {},
          "execution_count": 185
        },
        {
          "output_type": "display_data",
          "data": {
            "image/png": "[encoded data removed]",
            "text/plain": [
              "<Figure size 432x288 with 1 Axes>"
            ]
          },
          "metadata": {
            "needs_background": "light"
          }
        }
      ]
    }
  ]
}