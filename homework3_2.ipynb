{
  "nbformat": 4,
  "nbformat_minor": 0,
  "metadata": {
    "colab": {
      "name": "homework3-2.ipynb",
      "provenance": []
    },
    "kernelspec": {
      "name": "python3",
      "display_name": "Python 3"
    },
    "language_info": {
      "name": "python"
    },
    "accelerator": "GPU"
  },
  "cells": [
    {
      "cell_type": "code",
      "execution_count": 3,
      "metadata": {
        "colab": {
          "base_uri": "https://localhost:8080/"
        },
        "id": "gU_o2k3tohQ8",
        "outputId": "f91d26ce-4d18-4ff8-95db-900c0c18df3e"
      },
      "outputs": [
        {
          "output_type": "stream",
          "name": "stdout",
          "text": [
            "--2022-03-02 22:07:54--  https://raw.githubusercontent.com/Alireza-Akhavan/tf2-tutorial/master/callbacks/learningratefinder.py\n",
            "Resolving raw.githubusercontent.com (raw.githubusercontent.com)... 185.199.108.133, 185.199.109.133, 185.199.110.133, ...\n",
            "Connecting to raw.githubusercontent.com (raw.githubusercontent.com)|185.199.108.133|:443... connected.\n",
            "HTTP request sent, awaiting response... 200 OK\n",
            "Length: 5439 (5.3K) [text/plain]\n",
            "Saving to: ‘learningratefinder.py’\n",
            "\n",
            "\rlearningratefinder.   0%[                    ]       0  --.-KB/s               \rlearningratefinder. 100%[===================>]   5.31K  --.-KB/s    in 0s      \n",
            "\n",
            "2022-03-02 22:07:54 (41.3 MB/s) - ‘learningratefinder.py’ saved [5439/5439]\n",
            "\n",
            "--2022-03-02 22:07:55--  https://raw.githubusercontent.com/Alireza-Akhavan/SRU-deeplearning-workshop/master/dataset.py\n",
            "Resolving raw.githubusercontent.com (raw.githubusercontent.com)... 185.199.108.133, 185.199.109.133, 185.199.110.133, ...\n",
            "Connecting to raw.githubusercontent.com (raw.githubusercontent.com)|185.199.108.133|:443... connected.\n",
            "HTTP request sent, awaiting response... 200 OK\n",
            "Length: 929 [text/plain]\n",
            "Saving to: ‘dataset.py’\n",
            "\n",
            "dataset.py          100%[===================>]     929  --.-KB/s    in 0s      \n",
            "\n",
            "2022-03-02 22:07:55 (29.3 MB/s) - ‘dataset.py’ saved [929/929]\n",
            "\n",
            "--2022-03-02 22:07:55--  https://github.com/Alireza-Akhavan/SRU-deeplearning-workshop/raw/master/dataset/Data_hoda_full.mat\n",
            "Resolving github.com (github.com)... 140.82.112.4\n",
            "Connecting to github.com (github.com)|140.82.112.4|:443... connected.\n",
            "HTTP request sent, awaiting response... 302 Found\n",
            "Location: https://raw.githubusercontent.com/Alireza-Akhavan/SRU-deeplearning-workshop/master/dataset/Data_hoda_full.mat [following]\n",
            "--2022-03-02 22:07:55--  https://raw.githubusercontent.com/Alireza-Akhavan/SRU-deeplearning-workshop/master/dataset/Data_hoda_full.mat\n",
            "Resolving raw.githubusercontent.com (raw.githubusercontent.com)... 185.199.108.133, 185.199.109.133, 185.199.110.133, ...\n",
            "Connecting to raw.githubusercontent.com (raw.githubusercontent.com)|185.199.108.133|:443... connected.\n",
            "HTTP request sent, awaiting response... 200 OK\n",
            "Length: 3989009 (3.8M) [application/octet-stream]\n",
            "Saving to: ‘dataset/Data_hoda_full.mat’\n",
            "\n",
            "Data_hoda_full.mat  100%[===================>]   3.80M  --.-KB/s    in 0.07s   \n",
            "\n",
            "2022-03-02 22:07:56 (57.1 MB/s) - ‘dataset/Data_hoda_full.mat’ saved [3989009/3989009]\n",
            "\n"
          ]
        }
      ],
      "source": [
        "!wget https://raw.githubusercontent.com/Alireza-Akhavan/tf2-tutorial/master/callbacks/learningratefinder.py\n",
        "!wget https://raw.githubusercontent.com/Alireza-Akhavan/SRU-deeplearning-workshop/master/dataset.py\n",
        "!mkdir dataset\n",
        "!wget https://github.com/Alireza-Akhavan/SRU-deeplearning-workshop/raw/master/dataset/Data_hoda_full.mat -P dataset"
      ]
    },
    {
      "cell_type": "code",
      "source": [
        "from learningratefinder import LearningRateFinder\n",
        "from tensorflow import keras\n",
        "from keras import layers\n",
        "from keras.models import Sequential\n",
        "from keras.layers import Dense, Dropout, Activation\n",
        "import numpy as np\n",
        "from dataset import load_hoda\n",
        "import matplotlib.pyplot as plt"
      ],
      "metadata": {
        "id": "vgGjvnKZo1q0"
      },
      "execution_count": 8,
      "outputs": []
    },
    {
      "cell_type": "code",
      "source": [
        "x_train_original, y_train_original, x_test_original, y_test_original = load_hoda(training_sample_size=3500,test_sample_size=400,size=28)"
      ],
      "metadata": {
        "id": "6SrzSJznpxIn"
      },
      "execution_count": 9,
      "outputs": []
    },
    {
      "cell_type": "code",
      "source": [
        "x_train = np.array(x_train_original)\n",
        "x_test = np.array(x_test_original)\n",
        "x_train = x_train.astype('float32')\n",
        "x_test = x_test.astype('float32')\n",
        "x_train /= 255\n",
        "x_test /= 255\n",
        "x_train = x_train.reshape(-1,28,28,1)\n",
        "x_test = x_test.reshape(-1,28,28,1)\n",
        "y_train = keras.utils.to_categorical(y_train_original, num_classes=10)\n",
        "y_test = keras.utils.to_categorical(y_test_original, num_classes=10)\n",
        "x_val = x_test[:200]\n",
        "x_test = x_test[200:]\n",
        "y_val = y_test[:200]\n",
        "y_test = y_test[200:]"
      ],
      "metadata": {
        "id": "htUUrbR0qCER"
      },
      "execution_count": 10,
      "outputs": []
    },
    {
      "cell_type": "code",
      "source": [
        "model = Sequential()\n",
        "model.add(layers.Conv2D(32, (3, 3), activation='relu',input_shape=(28, 28, 1)))\n",
        "model.add(layers.MaxPooling2D((2, 2)))\n",
        "model.add(layers.Conv2D(64, (3, 3), activation='relu'))\n",
        "model.add(layers.MaxPooling2D((2, 2)))\n",
        "model.add(layers.Conv2D(64, (3, 3), activation='relu'))\n",
        "model.add(layers.Flatten())\n",
        "model.add(layers.Dense(64, activation='relu'))\n",
        "model.add(Dropout(0.5))\n",
        "model.add(layers.Dense(10, activation='softmax'))"
      ],
      "metadata": {
        "id": "SMYs9TcjqQid"
      },
      "execution_count": 11,
      "outputs": []
    },
    {
      "cell_type": "code",
      "source": [
        "model.compile(loss='categorical_crossentropy',optimizer='adam',metrics=['accuracy'])"
      ],
      "metadata": {
        "id": "aG-cEM0qqRoY"
      },
      "execution_count": 12,
      "outputs": []
    },
    {
      "cell_type": "code",
      "source": [
        "lrf = LearningRateFinder(model)\n",
        "lrf.find((x_train, y_train),1e-10, 1e+1)"
      ],
      "metadata": {
        "colab": {
          "base_uri": "https://localhost:8080/"
        },
        "id": "NfQ9OanbrHG2",
        "outputId": "f7e3e1d1-57df-49b8-a604-41652cc73337"
      },
      "execution_count": 13,
      "outputs": [
        {
          "output_type": "stream",
          "name": "stdout",
          "text": [
            "Epoch 1/19\n",
            "110/110 [==============================] - 11s 9ms/step - loss: 2.3055 - accuracy: 0.0857\n",
            "Epoch 2/19\n",
            "110/110 [==============================] - 1s 8ms/step - loss: 2.3042 - accuracy: 0.0914\n",
            "Epoch 3/19\n",
            "110/110 [==============================] - 1s 8ms/step - loss: 2.3044 - accuracy: 0.0834\n",
            "Epoch 4/19\n",
            "110/110 [==============================] - 1s 8ms/step - loss: 2.3048 - accuracy: 0.0863\n",
            "Epoch 5/19\n",
            "110/110 [==============================] - 1s 8ms/step - loss: 2.3044 - accuracy: 0.0897\n",
            "Epoch 6/19\n",
            "110/110 [==============================] - 1s 8ms/step - loss: 2.3044 - accuracy: 0.0914\n",
            "Epoch 7/19\n",
            "110/110 [==============================] - 1s 8ms/step - loss: 2.3037 - accuracy: 0.0800\n",
            "Epoch 8/19\n",
            "110/110 [==============================] - 1s 8ms/step - loss: 2.3038 - accuracy: 0.0966\n",
            "Epoch 9/19\n",
            "110/110 [==============================] - 1s 9ms/step - loss: 2.2969 - accuracy: 0.1129\n",
            "Epoch 10/19\n",
            "110/110 [==============================] - 1s 9ms/step - loss: 2.2590 - accuracy: 0.2200\n",
            "Epoch 11/19\n",
            "110/110 [==============================] - 1s 9ms/step - loss: 1.5327 - accuracy: 0.5120\n",
            "Epoch 12/19\n",
            "110/110 [==============================] - 1s 9ms/step - loss: 0.6669 - accuracy: 0.7714\n",
            "Epoch 13/19\n",
            "110/110 [==============================] - 1s 8ms/step - loss: 0.4125 - accuracy: 0.8614\n",
            "Epoch 14/19\n",
            "110/110 [==============================] - 1s 8ms/step - loss: 0.3915 - accuracy: 0.8746\n",
            "Epoch 15/19\n",
            "110/110 [==============================] - 1s 8ms/step - loss: 1.2841 - accuracy: 0.6229\n",
            "Epoch 16/19\n",
            "110/110 [==============================] - 1s 5ms/step - loss: 2.0158 - accuracy: 0.3714\n"
          ]
        }
      ]
    },
    {
      "cell_type": "code",
      "source": [
        "lrf.plot_loss()"
      ],
      "metadata": {
        "colab": {
          "base_uri": "https://localhost:8080/",
          "height": 283
        },
        "id": "5eUD44IqrH17",
        "outputId": "63e97c03-833e-410c-eb91-c3afc7fa4024"
      },
      "execution_count": 14,
      "outputs": [
        {
          "output_type": "display_data",
          "data": {
            "image/png": "[encoded data removed]",
            "text/plain": [
              "<Figure size 432x288 with 1 Axes>"
            ]
          },
          "metadata": {
            "needs_background": "light"
          }
        }
      ]
    },
    {
      "cell_type": "markdown",
      "source": [
        "تقریبا لرنینگ ریت بین 10^-4 و 10^-3 بهترین مقدار را دارد."
      ],
      "metadata": {
        "id": "K8OAlbYVrxE3"
      }
    }
  ]
}