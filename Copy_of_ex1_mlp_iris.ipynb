{
  "cells": [
    {
      "cell_type": "markdown",
      "metadata": {
        "id": "RHzsIqyNJQst"
      },
      "source": [
        "<center><div style=\"direction:rtl;font-family:B Lotus, B Nazanin, Tahoma\">به نام خدا</div></center>\n",
        "\n",
        "<h1><center><div style=\"direction:rtl;font-family:B Lotus, B Nazanin, Tahoma\">تمرین عملی 1: طبقه بندی با شبکه های تمام متصل روی مجموعه داده IRIS</div></center></h1>"
      ]
    },
    {
      "cell_type": "markdown",
      "metadata": {
        "id": "7EzI7iOmJQs1"
      },
      "source": [
        "## <div style=\"direction:rtl;text-align:right;font-family:B Lotus, B Nazanin, Tahoma\">صورت مساله</div>\n",
        "\n",
        "\n",
        "<div style=\"direction:rtl;text-align:right;font-family:Tahoma\">\n",
        "در اولین جلسه کارگاه طبقه بندی با شبکه های تمام متصل را دیدیم.\n",
        "<br>\n",
        "توصیه می‌شود حتما نوت بوک‌های زیر را قبل از این تمرین مرور کنید:\n",
        "</div>\n",
        "\n",
        "[04_a Gentle Introduction to Keras - Simple neural network(mlp).ipynb](https://nbviewer.jupyter.org/github/alireza-akhavan/SRU-deeplearning-workshop/blob/master/04_a%20Gentle%20Introduction%20to%20Keras%20-%20Simple%20neural%20network%28mlp%29.ipynb)\n",
        "\n",
        "[05_Dropout.ipynb](https://nbviewer.jupyter.org/github/alireza-akhavan/SRU-deeplearning-workshop/blob/master/05_Dropout.ipynb)\n",
        "\n",
        "<div style=\"direction:rtl;text-align:right;font-family:Tahoma\">\n",
        "در این جلسه با داده های تصویری آشنا شدیم. اما در این تمرین برای اینکه بدانیم کاربرد این مباحث در مسائل غیر تصویری نیز هست  از مجموعه داده ی ساختار یافتهiris  شامل 4 ویژگی برای طول و عرض کاسبرگ و گلبرگ استفاده خواهیم کرد که بتوانیم بر اساس این ویژگی ها نوع گل را از 3 کلاس متفاوت تشخیص دهیم.\n",
        "</div>"
      ]
    },
    {
      "cell_type": "markdown",
      "metadata": {
        "id": "B3ZWV9cPJQs5"
      },
      "source": [
        "## <div style=\"direction:rtl;text-align:right;font-family:B Lotus, B Nazanin, Tahoma\">لود کتابخانه های مورد نیاز </div>\n",
        "<div style=\"direction:rtl;text-align:right;font-family:Tahoma\">\n",
        "کتابخانه های مورد نیاز این تمرین لود شده اند\n",
        "<br>\n",
        "در صورت نیاز میتوانید کتابخانه های بیشتری لود کنید:\n",
        "</div>"
      ]
    },
    {
      "cell_type": "code",
      "execution_count": null,
      "metadata": {
        "id": "tXAQoQUfJQs7"
      },
      "outputs": [],
      "source": [
        "import numpy as np\n",
        "from tensorflow import keras\n",
        "from sklearn.datasets import load_iris\n",
        "from sklearn.model_selection import train_test_split\n",
        "from keras.models import Sequential\n",
        "from keras.layers import Dense, Dropout\n",
        "from tensorflow.keras.optimizers import Adam"
      ]
    },
    {
      "cell_type": "markdown",
      "metadata": {
        "id": "xvATdLFDJQs-"
      },
      "source": [
        "<div style=\"direction:rtl;text-align:right;font-family:Tahoma\">\n",
        "در این تمرین میخواهیم از مجموعه داده iris استفاده کنیم.\n",
        "<br>\n",
        "توضیحات این مجموعه داده در سایت آن موجود است:\n",
        "</div>\n",
        "\n",
        "https://archive.ics.uci.edu/ml/datasets/iris\n",
        "\n",
        "\n",
        "<div style=\"direction:rtl;text-align:right;font-family:Tahoma\">\n",
        "ویژگی ها و کلاس های این مجموعه داده به شرح زیر است:\n",
        "</div>\n",
        "\n",
        "Attribute Information:\n",
        "\n",
        "1. sepal length in cm\n",
        "2. sepal width in cm\n",
        "3. petal length in cm\n",
        "4. petal width in cm\n",
        "\n",
        "class:\n",
        "\n",
        "    Iris Setosa\n",
        "    Iris Versicolour\n",
        "    Iris Virginica\n",
        "\n",
        "<div style=\"direction:rtl;text-align:right;font-family:Tahoma\">\n",
        "این دیتاست در کتابخانه sklearn موجود است\n",
        "<br>\n",
        "در قطعه کد زیر ویژگی ها را در x و برچسب یا labelهای متناظر را در y لود شده است.\n",
        "</div>"
      ]
    },
    {
      "cell_type": "code",
      "execution_count": null,
      "metadata": {
        "id": "Wj1v03MvJQs_"
      },
      "outputs": [],
      "source": [
        "iris_data = load_iris() # load the iris dataset\n",
        "x = iris_data.data\n",
        "y = iris_data.target.reshape(-1, 1) # Convert data to a single column"
      ]
    },
    {
      "cell_type": "markdown",
      "metadata": {
        "id": "SdZ8h3r_JQtB"
      },
      "source": [
        "# <div style=\"direction:rtl;text-align:right;font-family:B Lotus, B Nazanin, Tahoma\">سوال 1:</div>\n",
        "<div style=\"direction:rtl;text-align:right;font-family:Tahoma\">\n",
        "برچسب یا label های ما در حال حاضر عددی است.\n",
        "<br>\n",
        "این اعداد 0 تا 2 هستند و به عبارتی 3 حالت مختلف دارند.\n",
        "<br>\n",
        "این برچسب ها را به فرمت one-hot تبدیل کنید و خروجی را مجدد در y بریزید.\n",
        "\n",
        "<br>\n",
        "<b>راهنمایی: </b>\n",
        "از تابع keras.utils.to_categorical استفاده کنید.\n",
        "</div>"
      ]
    },
    {
      "cell_type": "code",
      "source": [
        "y.shape"
      ],
      "metadata": {
        "id": "FbvPfOVYJqaN",
        "outputId": "a5ecc981-5055-4fd3-a9c3-56e7c26fef6b",
        "colab": {
          "base_uri": "https://localhost:8080/"
        }
      },
      "execution_count": null,
      "outputs": [
        {
          "output_type": "execute_result",
          "data": {
            "text/plain": [
              "(150, 1)"
            ]
          },
          "metadata": {},
          "execution_count": 14
        }
      ]
    },
    {
      "cell_type": "code",
      "execution_count": null,
      "metadata": {
        "id": "o0deJYkBJQtC"
      },
      "outputs": [],
      "source": [
        "y = keras.utils.to_categorical(y, num_classes=3)"
      ]
    },
    {
      "cell_type": "code",
      "source": [
        "y.shape"
      ],
      "metadata": {
        "id": "m3YB7Oq1KIzD",
        "outputId": "40042ef1-b2aa-4a6b-a514-f37b145cf489",
        "colab": {
          "base_uri": "https://localhost:8080/"
        }
      },
      "execution_count": null,
      "outputs": [
        {
          "output_type": "execute_result",
          "data": {
            "text/plain": [
              "(150, 3)"
            ]
          },
          "metadata": {},
          "execution_count": 16
        }
      ]
    },
    {
      "cell_type": "markdown",
      "metadata": {
        "id": "DP6kNpUtJQtD"
      },
      "source": [
        "<div style=\"direction:rtl;text-align:right;font-family:Tahoma\">\n",
        "در زیر داده ها  به داده های test و train تقسیم شده است:\n",
        "</div>"
      ]
    },
    {
      "cell_type": "code",
      "execution_count": null,
      "metadata": {
        "id": "QMgJq1pXJQtF"
      },
      "outputs": [],
      "source": [
        "# Split the data for training and testing\n",
        "train_x, test_x, train_y, test_y = train_test_split(x, y, test_size=0.20)"
      ]
    },
    {
      "cell_type": "code",
      "source": [
        "train_x[0]"
      ],
      "metadata": {
        "id": "IIq9xFXYLoDa",
        "outputId": "c3e06951-03dc-49e3-fd02-025aadb3d457",
        "colab": {
          "base_uri": "https://localhost:8080/"
        }
      },
      "execution_count": null,
      "outputs": [
        {
          "output_type": "execute_result",
          "data": {
            "text/plain": [
              "array([5. , 2.3, 3.3, 1. ])"
            ]
          },
          "metadata": {},
          "execution_count": 20
        }
      ]
    },
    {
      "cell_type": "markdown",
      "metadata": {
        "id": "4armvZt6JQtG"
      },
      "source": [
        "# <div style=\"direction:rtl;text-align:right;font-family:B Lotus, B Nazanin, Tahoma\">سوال 2:</div>\n",
        "<div style=\"direction:rtl;text-align:right;font-family:Tahoma\">\n",
        "یک شبکه با دو hidden-layer در هر لایه 10 نوران و تابع فعالیت relu بسازید. یک لایه Dropout با نرخ 0.5 در لایه آخر ماقبل softmax نیز اضافه کنید.\n",
        "</div>"
      ]
    },
    {
      "cell_type": "code",
      "execution_count": null,
      "metadata": {
        "id": "YUfPdnCMJQtH"
      },
      "outputs": [],
      "source": [
        "# Build the model\n",
        "model= Sequential()\n",
        "model.add(Dense( 10, activation = 'relu', input_dim = train_x[0].size))\n",
        "model.add(Dense( 10, activation = 'relu'))\n",
        "model.add(Dropout(0.5))\n",
        "model.add(Dense( 3, activation= 'softmax'))"
      ]
    },
    {
      "cell_type": "code",
      "execution_count": null,
      "metadata": {
        "id": "dvwYe8hVJQtH",
        "outputId": "30eb548e-00b5-4300-cb53-5f279b954f13",
        "colab": {
          "base_uri": "https://localhost:8080/"
        }
      },
      "outputs": [
        {
          "output_type": "stream",
          "name": "stdout",
          "text": [
            "Model: \"sequential_2\"\n",
            "_________________________________________________________________\n",
            " Layer (type)                Output Shape              Param #   \n",
            "=================================================================\n",
            " dense_1 (Dense)             (None, 10)                50        \n",
            "                                                                 \n",
            " dense_2 (Dense)             (None, 10)                110       \n",
            "                                                                 \n",
            " dropout (Dropout)           (None, 10)                0         \n",
            "                                                                 \n",
            " dense_3 (Dense)             (None, 3)                 33        \n",
            "                                                                 \n",
            "=================================================================\n",
            "Total params: 193\n",
            "Trainable params: 193\n",
            "Non-trainable params: 0\n",
            "_________________________________________________________________\n"
          ]
        }
      ],
      "source": [
        "model.summary()"
      ]
    },
    {
      "cell_type": "markdown",
      "metadata": {
        "id": "BzNvOShnJQtI"
      },
      "source": [
        "<div style=\"direction:rtl;text-align:right;font-family:Tahoma\">در زیر مدل کامپایل شده است.</div>"
      ]
    },
    {
      "cell_type": "code",
      "execution_count": null,
      "metadata": {
        "id": "FyWOxUqPJQtJ",
        "outputId": "ce500eae-60be-4433-bc7d-91a3bd454d6e",
        "colab": {
          "base_uri": "https://localhost:8080/"
        }
      },
      "outputs": [
        {
          "output_type": "stream",
          "name": "stderr",
          "text": [
            "/usr/local/lib/python3.7/dist-packages/keras/optimizer_v2/adam.py:105: UserWarning: The `lr` argument is deprecated, use `learning_rate` instead.\n",
            "  super(Adam, self).__init__(name, **kwargs)\n"
          ]
        }
      ],
      "source": [
        "# Adam optimizer with learning rate of 0.001\n",
        "optimizer = Adam(lr=0.001)\n",
        "model.compile(optimizer, loss='categorical_crossentropy', metrics=['accuracy'])"
      ]
    },
    {
      "cell_type": "markdown",
      "metadata": {
        "id": "RB-0J5Y6JQtJ"
      },
      "source": [
        "# <div style=\"direction:rtl;text-align:right;font-family:B Lotus, B Nazanin, Tahoma\">سوال 3:</div>\n",
        "<div style=\"direction:rtl;text-align:right;font-family:Tahoma\">\n",
        "مدل را با  batch_size=5 و تعداد 200 ایپاک آموزش دهید.\n",
        "<br>\n",
        "<b>راهنمایی: </b>\n",
        "از تابع model.fit استفاده کنید.\n",
        "</div>"
      ]
    },
    {
      "cell_type": "code",
      "execution_count": null,
      "metadata": {
        "id": "TxHI0XeLJQtK",
        "outputId": "536b6cfe-2f27-4d24-d0ee-11e3f6cf32e5",
        "colab": {
          "base_uri": "https://localhost:8080/"
        }
      },
      "outputs": [
        {
          "output_type": "stream",
          "name": "stdout",
          "text": [
            "Epoch 1/200\n",
            "24/24 [==============================] - 3s 2ms/step - loss: 1.7117 - accuracy: 0.2667\n",
            "Epoch 2/200\n",
            "24/24 [==============================] - 0s 2ms/step - loss: 1.3573 - accuracy: 0.2667\n",
            "Epoch 3/200\n",
            "24/24 [==============================] - 0s 2ms/step - loss: 1.2281 - accuracy: 0.3167\n",
            "Epoch 4/200\n",
            "24/24 [==============================] - 0s 3ms/step - loss: 1.1957 - accuracy: 0.3167\n",
            "Epoch 5/200\n",
            "24/24 [==============================] - 0s 2ms/step - loss: 1.1026 - accuracy: 0.4083\n",
            "Epoch 6/200\n",
            "24/24 [==============================] - 0s 3ms/step - loss: 1.0439 - accuracy: 0.4500\n",
            "Epoch 7/200\n",
            "24/24 [==============================] - 0s 3ms/step - loss: 1.0842 - accuracy: 0.3917\n",
            "Epoch 8/200\n",
            "24/24 [==============================] - 0s 2ms/step - loss: 1.0287 - accuracy: 0.4167\n",
            "Epoch 9/200\n",
            "24/24 [==============================] - 0s 2ms/step - loss: 1.0293 - accuracy: 0.4667\n",
            "Epoch 10/200\n",
            "24/24 [==============================] - 0s 2ms/step - loss: 1.0372 - accuracy: 0.5250\n",
            "Epoch 11/200\n",
            "24/24 [==============================] - 0s 2ms/step - loss: 1.0327 - accuracy: 0.4750\n",
            "Epoch 12/200\n",
            "24/24 [==============================] - 0s 2ms/step - loss: 0.9513 - accuracy: 0.5250\n",
            "Epoch 13/200\n",
            "24/24 [==============================] - 0s 2ms/step - loss: 0.9842 - accuracy: 0.5083\n",
            "Epoch 14/200\n",
            "24/24 [==============================] - 0s 2ms/step - loss: 0.9447 - accuracy: 0.5583\n",
            "Epoch 15/200\n",
            "24/24 [==============================] - 0s 2ms/step - loss: 0.9630 - accuracy: 0.5250\n",
            "Epoch 16/200\n",
            "24/24 [==============================] - 0s 2ms/step - loss: 0.9411 - accuracy: 0.5083\n",
            "Epoch 17/200\n",
            "24/24 [==============================] - 0s 3ms/step - loss: 0.9882 - accuracy: 0.4917\n",
            "Epoch 18/200\n",
            "24/24 [==============================] - 0s 2ms/step - loss: 0.9440 - accuracy: 0.5083\n",
            "Epoch 19/200\n",
            "24/24 [==============================] - 0s 2ms/step - loss: 0.8633 - accuracy: 0.6083\n",
            "Epoch 20/200\n",
            "24/24 [==============================] - 0s 3ms/step - loss: 0.8875 - accuracy: 0.6167\n",
            "Epoch 21/200\n",
            "24/24 [==============================] - 0s 2ms/step - loss: 0.9096 - accuracy: 0.5750\n",
            "Epoch 22/200\n",
            "24/24 [==============================] - 0s 2ms/step - loss: 0.8526 - accuracy: 0.6667\n",
            "Epoch 23/200\n",
            "24/24 [==============================] - 0s 2ms/step - loss: 0.8158 - accuracy: 0.6500\n",
            "Epoch 24/200\n",
            "24/24 [==============================] - 0s 2ms/step - loss: 0.8068 - accuracy: 0.7000\n",
            "Epoch 25/200\n",
            "24/24 [==============================] - 0s 2ms/step - loss: 0.8340 - accuracy: 0.5833\n",
            "Epoch 26/200\n",
            "24/24 [==============================] - 0s 2ms/step - loss: 0.7866 - accuracy: 0.6833\n",
            "Epoch 27/200\n",
            "24/24 [==============================] - 0s 3ms/step - loss: 0.8091 - accuracy: 0.6833\n",
            "Epoch 28/200\n",
            "24/24 [==============================] - 0s 2ms/step - loss: 0.8522 - accuracy: 0.6083\n",
            "Epoch 29/200\n",
            "24/24 [==============================] - 0s 2ms/step - loss: 0.8444 - accuracy: 0.5917\n",
            "Epoch 30/200\n",
            "24/24 [==============================] - 0s 2ms/step - loss: 0.7859 - accuracy: 0.6500\n",
            "Epoch 31/200\n",
            "24/24 [==============================] - 0s 2ms/step - loss: 0.8255 - accuracy: 0.6250\n",
            "Epoch 32/200\n",
            "24/24 [==============================] - 0s 2ms/step - loss: 0.8030 - accuracy: 0.6167\n",
            "Epoch 33/200\n",
            "24/24 [==============================] - 0s 2ms/step - loss: 0.7508 - accuracy: 0.6500\n",
            "Epoch 34/200\n",
            "24/24 [==============================] - 0s 2ms/step - loss: 0.7506 - accuracy: 0.6500\n",
            "Epoch 35/200\n",
            "24/24 [==============================] - 0s 2ms/step - loss: 0.7239 - accuracy: 0.6500\n",
            "Epoch 36/200\n",
            "24/24 [==============================] - 0s 3ms/step - loss: 0.7595 - accuracy: 0.6167\n",
            "Epoch 37/200\n",
            "24/24 [==============================] - 0s 2ms/step - loss: 0.7083 - accuracy: 0.6750\n",
            "Epoch 38/200\n",
            "24/24 [==============================] - 0s 2ms/step - loss: 0.6618 - accuracy: 0.6833\n",
            "Epoch 39/200\n",
            "24/24 [==============================] - 0s 2ms/step - loss: 0.7351 - accuracy: 0.5833\n",
            "Epoch 40/200\n",
            "24/24 [==============================] - 0s 2ms/step - loss: 0.6380 - accuracy: 0.7333\n",
            "Epoch 41/200\n",
            "24/24 [==============================] - 0s 2ms/step - loss: 0.6907 - accuracy: 0.6500\n",
            "Epoch 42/200\n",
            "24/24 [==============================] - 0s 2ms/step - loss: 0.7031 - accuracy: 0.6583\n",
            "Epoch 43/200\n",
            "24/24 [==============================] - 0s 2ms/step - loss: 0.6504 - accuracy: 0.6750\n",
            "Epoch 44/200\n",
            "24/24 [==============================] - 0s 2ms/step - loss: 0.6416 - accuracy: 0.6333\n",
            "Epoch 45/200\n",
            "24/24 [==============================] - 0s 2ms/step - loss: 0.6498 - accuracy: 0.6750\n",
            "Epoch 46/200\n",
            "24/24 [==============================] - 0s 2ms/step - loss: 0.6910 - accuracy: 0.6500\n",
            "Epoch 47/200\n",
            "24/24 [==============================] - 0s 2ms/step - loss: 0.6490 - accuracy: 0.7250\n",
            "Epoch 48/200\n",
            "24/24 [==============================] - 0s 2ms/step - loss: 0.6568 - accuracy: 0.6667\n",
            "Epoch 49/200\n",
            "24/24 [==============================] - 0s 2ms/step - loss: 0.6281 - accuracy: 0.7167\n",
            "Epoch 50/200\n",
            "24/24 [==============================] - 0s 2ms/step - loss: 0.6536 - accuracy: 0.6833\n",
            "Epoch 51/200\n",
            "24/24 [==============================] - 0s 2ms/step - loss: 0.6690 - accuracy: 0.6667\n",
            "Epoch 52/200\n",
            "24/24 [==============================] - 0s 2ms/step - loss: 0.6044 - accuracy: 0.7750\n",
            "Epoch 53/200\n",
            "24/24 [==============================] - 0s 3ms/step - loss: 0.6594 - accuracy: 0.6917\n",
            "Epoch 54/200\n",
            "24/24 [==============================] - 0s 2ms/step - loss: 0.6791 - accuracy: 0.7000\n",
            "Epoch 55/200\n",
            "24/24 [==============================] - 0s 2ms/step - loss: 0.6056 - accuracy: 0.6917\n",
            "Epoch 56/200\n",
            "24/24 [==============================] - 0s 2ms/step - loss: 0.6372 - accuracy: 0.7417\n",
            "Epoch 57/200\n",
            "24/24 [==============================] - 0s 2ms/step - loss: 0.6114 - accuracy: 0.7250\n",
            "Epoch 58/200\n",
            "24/24 [==============================] - 0s 2ms/step - loss: 0.6040 - accuracy: 0.7583\n",
            "Epoch 59/200\n",
            "24/24 [==============================] - 0s 2ms/step - loss: 0.6030 - accuracy: 0.7417\n",
            "Epoch 60/200\n",
            "24/24 [==============================] - 0s 2ms/step - loss: 0.6400 - accuracy: 0.7250\n",
            "Epoch 61/200\n",
            "24/24 [==============================] - 0s 2ms/step - loss: 0.6405 - accuracy: 0.7000\n",
            "Epoch 62/200\n",
            "24/24 [==============================] - 0s 2ms/step - loss: 0.6162 - accuracy: 0.7083\n",
            "Epoch 63/200\n",
            "24/24 [==============================] - 0s 2ms/step - loss: 0.6868 - accuracy: 0.6417\n",
            "Epoch 64/200\n",
            "24/24 [==============================] - 0s 2ms/step - loss: 0.6048 - accuracy: 0.7333\n",
            "Epoch 65/200\n",
            "24/24 [==============================] - 0s 2ms/step - loss: 0.5769 - accuracy: 0.7583\n",
            "Epoch 66/200\n",
            "24/24 [==============================] - 0s 2ms/step - loss: 0.6003 - accuracy: 0.7500\n",
            "Epoch 67/200\n",
            "24/24 [==============================] - 0s 2ms/step - loss: 0.5343 - accuracy: 0.7417\n",
            "Epoch 68/200\n",
            "24/24 [==============================] - 0s 3ms/step - loss: 0.5403 - accuracy: 0.7667\n",
            "Epoch 69/200\n",
            "24/24 [==============================] - 0s 2ms/step - loss: 0.6491 - accuracy: 0.7167\n",
            "Epoch 70/200\n",
            "24/24 [==============================] - 0s 2ms/step - loss: 0.6374 - accuracy: 0.6833\n",
            "Epoch 71/200\n",
            "24/24 [==============================] - 0s 2ms/step - loss: 0.5521 - accuracy: 0.7917\n",
            "Epoch 72/200\n",
            "24/24 [==============================] - 0s 2ms/step - loss: 0.5999 - accuracy: 0.7417\n",
            "Epoch 73/200\n",
            "24/24 [==============================] - 0s 2ms/step - loss: 0.5560 - accuracy: 0.7917\n",
            "Epoch 74/200\n",
            "24/24 [==============================] - 0s 2ms/step - loss: 0.5537 - accuracy: 0.7500\n",
            "Epoch 75/200\n",
            "24/24 [==============================] - 0s 2ms/step - loss: 0.5534 - accuracy: 0.7917\n",
            "Epoch 76/200\n",
            "24/24 [==============================] - 0s 3ms/step - loss: 0.5261 - accuracy: 0.7750\n",
            "Epoch 77/200\n",
            "24/24 [==============================] - 0s 2ms/step - loss: 0.5476 - accuracy: 0.7583\n",
            "Epoch 78/200\n",
            "24/24 [==============================] - 0s 2ms/step - loss: 0.5511 - accuracy: 0.7917\n",
            "Epoch 79/200\n",
            "24/24 [==============================] - 0s 2ms/step - loss: 0.5637 - accuracy: 0.7750\n",
            "Epoch 80/200\n",
            "24/24 [==============================] - 0s 2ms/step - loss: 0.5411 - accuracy: 0.7833\n",
            "Epoch 81/200\n",
            "24/24 [==============================] - 0s 2ms/step - loss: 0.5260 - accuracy: 0.8000\n",
            "Epoch 82/200\n",
            "24/24 [==============================] - 0s 2ms/step - loss: 0.5373 - accuracy: 0.7250\n",
            "Epoch 83/200\n",
            "24/24 [==============================] - 0s 2ms/step - loss: 0.4815 - accuracy: 0.7667\n",
            "Epoch 84/200\n",
            "24/24 [==============================] - 0s 3ms/step - loss: 0.5048 - accuracy: 0.8000\n",
            "Epoch 85/200\n",
            "24/24 [==============================] - 0s 2ms/step - loss: 0.5588 - accuracy: 0.7667\n",
            "Epoch 86/200\n",
            "24/24 [==============================] - 0s 2ms/step - loss: 0.5211 - accuracy: 0.7583\n",
            "Epoch 87/200\n",
            "24/24 [==============================] - 0s 3ms/step - loss: 0.5722 - accuracy: 0.7750\n",
            "Epoch 88/200\n",
            "24/24 [==============================] - 0s 2ms/step - loss: 0.5143 - accuracy: 0.7667\n",
            "Epoch 89/200\n",
            "24/24 [==============================] - 0s 2ms/step - loss: 0.5153 - accuracy: 0.8000\n",
            "Epoch 90/200\n",
            "24/24 [==============================] - 0s 3ms/step - loss: 0.5798 - accuracy: 0.7167\n",
            "Epoch 91/200\n",
            "24/24 [==============================] - 0s 3ms/step - loss: 0.4940 - accuracy: 0.8167\n",
            "Epoch 92/200\n",
            "24/24 [==============================] - 0s 2ms/step - loss: 0.5072 - accuracy: 0.8083\n",
            "Epoch 93/200\n",
            "24/24 [==============================] - 0s 2ms/step - loss: 0.5042 - accuracy: 0.7500\n",
            "Epoch 94/200\n",
            "24/24 [==============================] - 0s 2ms/step - loss: 0.5125 - accuracy: 0.7667\n",
            "Epoch 95/200\n",
            "24/24 [==============================] - 0s 2ms/step - loss: 0.4821 - accuracy: 0.7917\n",
            "Epoch 96/200\n",
            "24/24 [==============================] - 0s 2ms/step - loss: 0.4708 - accuracy: 0.8167\n",
            "Epoch 97/200\n",
            "24/24 [==============================] - 0s 2ms/step - loss: 0.4685 - accuracy: 0.8083\n",
            "Epoch 98/200\n",
            "24/24 [==============================] - 0s 2ms/step - loss: 0.4492 - accuracy: 0.7917\n",
            "Epoch 99/200\n",
            "24/24 [==============================] - 0s 3ms/step - loss: 0.5293 - accuracy: 0.7833\n",
            "Epoch 100/200\n",
            "24/24 [==============================] - 0s 3ms/step - loss: 0.4881 - accuracy: 0.7667\n",
            "Epoch 101/200\n",
            "24/24 [==============================] - 0s 2ms/step - loss: 0.4739 - accuracy: 0.8000\n",
            "Epoch 102/200\n",
            "24/24 [==============================] - 0s 2ms/step - loss: 0.4736 - accuracy: 0.8167\n",
            "Epoch 103/200\n",
            "24/24 [==============================] - 0s 2ms/step - loss: 0.4758 - accuracy: 0.8167\n",
            "Epoch 104/200\n",
            "24/24 [==============================] - 0s 3ms/step - loss: 0.4492 - accuracy: 0.8083\n",
            "Epoch 105/200\n",
            "24/24 [==============================] - 0s 2ms/step - loss: 0.4013 - accuracy: 0.8250\n",
            "Epoch 106/200\n",
            "24/24 [==============================] - 0s 2ms/step - loss: 0.5223 - accuracy: 0.7417\n",
            "Epoch 107/200\n",
            "24/24 [==============================] - 0s 2ms/step - loss: 0.5148 - accuracy: 0.7667\n",
            "Epoch 108/200\n",
            "24/24 [==============================] - 0s 2ms/step - loss: 0.4876 - accuracy: 0.7667\n",
            "Epoch 109/200\n",
            "24/24 [==============================] - 0s 3ms/step - loss: 0.4477 - accuracy: 0.8167\n",
            "Epoch 110/200\n",
            "24/24 [==============================] - 0s 2ms/step - loss: 0.4684 - accuracy: 0.7667\n",
            "Epoch 111/200\n",
            "24/24 [==============================] - 0s 2ms/step - loss: 0.3813 - accuracy: 0.8417\n",
            "Epoch 112/200\n",
            "24/24 [==============================] - 0s 2ms/step - loss: 0.4456 - accuracy: 0.8083\n",
            "Epoch 113/200\n",
            "24/24 [==============================] - 0s 2ms/step - loss: 0.4919 - accuracy: 0.7917\n",
            "Epoch 114/200\n",
            "24/24 [==============================] - 0s 3ms/step - loss: 0.4751 - accuracy: 0.8000\n",
            "Epoch 115/200\n",
            "24/24 [==============================] - 0s 2ms/step - loss: 0.4494 - accuracy: 0.7750\n",
            "Epoch 116/200\n",
            "24/24 [==============================] - 0s 3ms/step - loss: 0.5047 - accuracy: 0.7750\n",
            "Epoch 117/200\n",
            "24/24 [==============================] - 0s 2ms/step - loss: 0.4431 - accuracy: 0.8000\n",
            "Epoch 118/200\n",
            "24/24 [==============================] - 0s 2ms/step - loss: 0.4774 - accuracy: 0.7750\n",
            "Epoch 119/200\n",
            "24/24 [==============================] - 0s 3ms/step - loss: 0.4800 - accuracy: 0.7583\n",
            "Epoch 120/200\n",
            "24/24 [==============================] - 0s 2ms/step - loss: 0.5359 - accuracy: 0.7750\n",
            "Epoch 121/200\n",
            "24/24 [==============================] - 0s 2ms/step - loss: 0.4562 - accuracy: 0.7750\n",
            "Epoch 122/200\n",
            "24/24 [==============================] - 0s 2ms/step - loss: 0.4484 - accuracy: 0.8167\n",
            "Epoch 123/200\n",
            "24/24 [==============================] - 0s 2ms/step - loss: 0.4677 - accuracy: 0.8250\n",
            "Epoch 124/200\n",
            "24/24 [==============================] - 0s 2ms/step - loss: 0.4374 - accuracy: 0.8500\n",
            "Epoch 125/200\n",
            "24/24 [==============================] - 0s 2ms/step - loss: 0.4386 - accuracy: 0.8333\n",
            "Epoch 126/200\n",
            "24/24 [==============================] - 0s 2ms/step - loss: 0.5206 - accuracy: 0.8000\n",
            "Epoch 127/200\n",
            "24/24 [==============================] - 0s 2ms/step - loss: 0.5132 - accuracy: 0.7500\n",
            "Epoch 128/200\n",
            "24/24 [==============================] - 0s 2ms/step - loss: 0.3966 - accuracy: 0.8583\n",
            "Epoch 129/200\n",
            "24/24 [==============================] - 0s 3ms/step - loss: 0.4168 - accuracy: 0.8333\n",
            "Epoch 130/200\n",
            "24/24 [==============================] - 0s 2ms/step - loss: 0.4808 - accuracy: 0.7750\n",
            "Epoch 131/200\n",
            "24/24 [==============================] - 0s 2ms/step - loss: 0.4014 - accuracy: 0.8417\n",
            "Epoch 132/200\n",
            "24/24 [==============================] - 0s 2ms/step - loss: 0.4462 - accuracy: 0.7917\n",
            "Epoch 133/200\n",
            "24/24 [==============================] - 0s 2ms/step - loss: 0.4405 - accuracy: 0.8417\n",
            "Epoch 134/200\n",
            "24/24 [==============================] - 0s 2ms/step - loss: 0.4791 - accuracy: 0.8083\n",
            "Epoch 135/200\n",
            "24/24 [==============================] - 0s 2ms/step - loss: 0.3955 - accuracy: 0.8500\n",
            "Epoch 136/200\n",
            "24/24 [==============================] - 0s 2ms/step - loss: 0.4332 - accuracy: 0.8333\n",
            "Epoch 137/200\n",
            "24/24 [==============================] - 0s 2ms/step - loss: 0.4589 - accuracy: 0.8167\n",
            "Epoch 138/200\n",
            "24/24 [==============================] - 0s 2ms/step - loss: 0.3863 - accuracy: 0.8583\n",
            "Epoch 139/200\n",
            "24/24 [==============================] - 0s 2ms/step - loss: 0.3536 - accuracy: 0.8333\n",
            "Epoch 140/200\n",
            "24/24 [==============================] - 0s 2ms/step - loss: 0.4541 - accuracy: 0.7917\n",
            "Epoch 141/200\n",
            "24/24 [==============================] - 0s 2ms/step - loss: 0.4221 - accuracy: 0.8083\n",
            "Epoch 142/200\n",
            "24/24 [==============================] - 0s 2ms/step - loss: 0.4711 - accuracy: 0.8000\n",
            "Epoch 143/200\n",
            "24/24 [==============================] - 0s 2ms/step - loss: 0.4016 - accuracy: 0.8583\n",
            "Epoch 144/200\n",
            "24/24 [==============================] - 0s 2ms/step - loss: 0.4803 - accuracy: 0.7750\n",
            "Epoch 145/200\n",
            "24/24 [==============================] - 0s 2ms/step - loss: 0.3939 - accuracy: 0.8417\n",
            "Epoch 146/200\n",
            "24/24 [==============================] - 0s 2ms/step - loss: 0.4162 - accuracy: 0.8083\n",
            "Epoch 147/200\n",
            "24/24 [==============================] - 0s 2ms/step - loss: 0.4022 - accuracy: 0.8083\n",
            "Epoch 148/200\n",
            "24/24 [==============================] - 0s 2ms/step - loss: 0.3731 - accuracy: 0.8667\n",
            "Epoch 149/200\n",
            "24/24 [==============================] - 0s 2ms/step - loss: 0.3989 - accuracy: 0.8167\n",
            "Epoch 150/200\n",
            "24/24 [==============================] - 0s 3ms/step - loss: 0.4392 - accuracy: 0.8167\n",
            "Epoch 151/200\n",
            "24/24 [==============================] - 0s 2ms/step - loss: 0.3739 - accuracy: 0.8667\n",
            "Epoch 152/200\n",
            "24/24 [==============================] - 0s 3ms/step - loss: 0.4348 - accuracy: 0.7833\n",
            "Epoch 153/200\n",
            "24/24 [==============================] - 0s 2ms/step - loss: 0.5409 - accuracy: 0.7417\n",
            "Epoch 154/200\n",
            "24/24 [==============================] - 0s 2ms/step - loss: 0.4913 - accuracy: 0.8167\n",
            "Epoch 155/200\n",
            "24/24 [==============================] - 0s 2ms/step - loss: 0.4323 - accuracy: 0.8167\n",
            "Epoch 156/200\n",
            "24/24 [==============================] - 0s 2ms/step - loss: 0.4434 - accuracy: 0.8333\n",
            "Epoch 157/200\n",
            "24/24 [==============================] - 0s 2ms/step - loss: 0.4631 - accuracy: 0.8000\n",
            "Epoch 158/200\n",
            "24/24 [==============================] - 0s 3ms/step - loss: 0.3912 - accuracy: 0.8500\n",
            "Epoch 159/200\n",
            "24/24 [==============================] - 0s 2ms/step - loss: 0.4731 - accuracy: 0.8083\n",
            "Epoch 160/200\n",
            "24/24 [==============================] - 0s 3ms/step - loss: 0.4521 - accuracy: 0.8000\n",
            "Epoch 161/200\n",
            "24/24 [==============================] - 0s 2ms/step - loss: 0.4034 - accuracy: 0.8333\n",
            "Epoch 162/200\n",
            "24/24 [==============================] - 0s 2ms/step - loss: 0.4547 - accuracy: 0.8167\n",
            "Epoch 163/200\n",
            "24/24 [==============================] - 0s 3ms/step - loss: 0.4394 - accuracy: 0.8167\n",
            "Epoch 164/200\n",
            "24/24 [==============================] - 0s 2ms/step - loss: 0.4795 - accuracy: 0.7750\n",
            "Epoch 165/200\n",
            "24/24 [==============================] - 0s 3ms/step - loss: 0.4276 - accuracy: 0.8167\n",
            "Epoch 166/200\n",
            "24/24 [==============================] - 0s 2ms/step - loss: 0.4116 - accuracy: 0.8250\n",
            "Epoch 167/200\n",
            "24/24 [==============================] - 0s 3ms/step - loss: 0.4134 - accuracy: 0.8167\n",
            "Epoch 168/200\n",
            "24/24 [==============================] - 0s 2ms/step - loss: 0.4027 - accuracy: 0.8750\n",
            "Epoch 169/200\n",
            "24/24 [==============================] - 0s 2ms/step - loss: 0.4027 - accuracy: 0.8500\n",
            "Epoch 170/200\n",
            "24/24 [==============================] - 0s 2ms/step - loss: 0.4418 - accuracy: 0.7917\n",
            "Epoch 171/200\n",
            "24/24 [==============================] - 0s 2ms/step - loss: 0.3712 - accuracy: 0.8500\n",
            "Epoch 172/200\n",
            "24/24 [==============================] - 0s 2ms/step - loss: 0.4064 - accuracy: 0.8250\n",
            "Epoch 173/200\n",
            "24/24 [==============================] - 0s 2ms/step - loss: 0.3882 - accuracy: 0.8167\n",
            "Epoch 174/200\n",
            "24/24 [==============================] - 0s 2ms/step - loss: 0.4111 - accuracy: 0.8083\n",
            "Epoch 175/200\n",
            "24/24 [==============================] - 0s 2ms/step - loss: 0.3592 - accuracy: 0.8417\n",
            "Epoch 176/200\n",
            "24/24 [==============================] - 0s 2ms/step - loss: 0.4821 - accuracy: 0.7750\n",
            "Epoch 177/200\n",
            "24/24 [==============================] - 0s 2ms/step - loss: 0.3785 - accuracy: 0.8333\n",
            "Epoch 178/200\n",
            "24/24 [==============================] - 0s 2ms/step - loss: 0.3688 - accuracy: 0.8583\n",
            "Epoch 179/200\n",
            "24/24 [==============================] - 0s 3ms/step - loss: 0.3011 - accuracy: 0.9250\n",
            "Epoch 180/200\n",
            "24/24 [==============================] - 0s 2ms/step - loss: 0.4057 - accuracy: 0.8333\n",
            "Epoch 181/200\n",
            "24/24 [==============================] - 0s 2ms/step - loss: 0.4153 - accuracy: 0.7917\n",
            "Epoch 182/200\n",
            "24/24 [==============================] - 0s 2ms/step - loss: 0.4067 - accuracy: 0.8333\n",
            "Epoch 183/200\n",
            "24/24 [==============================] - 0s 3ms/step - loss: 0.4561 - accuracy: 0.8333\n",
            "Epoch 184/200\n",
            "24/24 [==============================] - 0s 2ms/step - loss: 0.4662 - accuracy: 0.8167\n",
            "Epoch 185/200\n",
            "24/24 [==============================] - 0s 3ms/step - loss: 0.4503 - accuracy: 0.8333\n",
            "Epoch 186/200\n",
            "24/24 [==============================] - 0s 2ms/step - loss: 0.3918 - accuracy: 0.8750\n",
            "Epoch 187/200\n",
            "24/24 [==============================] - 0s 3ms/step - loss: 0.4582 - accuracy: 0.8167\n",
            "Epoch 188/200\n",
            "24/24 [==============================] - 0s 2ms/step - loss: 0.2964 - accuracy: 0.9250\n",
            "Epoch 189/200\n",
            "24/24 [==============================] - 0s 2ms/step - loss: 0.4077 - accuracy: 0.8417\n",
            "Epoch 190/200\n",
            "24/24 [==============================] - 0s 2ms/step - loss: 0.3894 - accuracy: 0.8083\n",
            "Epoch 191/200\n",
            "24/24 [==============================] - 0s 3ms/step - loss: 0.4220 - accuracy: 0.8250\n",
            "Epoch 192/200\n",
            "24/24 [==============================] - 0s 3ms/step - loss: 0.4313 - accuracy: 0.8167\n",
            "Epoch 193/200\n",
            "24/24 [==============================] - 0s 2ms/step - loss: 0.4661 - accuracy: 0.7917\n",
            "Epoch 194/200\n",
            "24/24 [==============================] - 0s 2ms/step - loss: 0.3881 - accuracy: 0.8000\n",
            "Epoch 195/200\n",
            "24/24 [==============================] - 0s 2ms/step - loss: 0.4141 - accuracy: 0.8583\n",
            "Epoch 196/200\n",
            "24/24 [==============================] - 0s 2ms/step - loss: 0.3909 - accuracy: 0.8250\n",
            "Epoch 197/200\n",
            "24/24 [==============================] - 0s 3ms/step - loss: 0.4218 - accuracy: 0.7667\n",
            "Epoch 198/200\n",
            "24/24 [==============================] - 0s 3ms/step - loss: 0.4110 - accuracy: 0.8333\n",
            "Epoch 199/200\n",
            "24/24 [==============================] - 0s 3ms/step - loss: 0.3312 - accuracy: 0.8667\n",
            "Epoch 200/200\n",
            "24/24 [==============================] - 0s 3ms/step - loss: 0.3931 - accuracy: 0.8500\n"
          ]
        },
        {
          "output_type": "execute_result",
          "data": {
            "text/plain": [
              "<keras.callbacks.History at 0x7f42a03c9490>"
            ]
          },
          "metadata": {},
          "execution_count": 25
        }
      ],
      "source": [
        "# Train the model\n",
        "model.fit(train_x, train_y, batch_size= 5, epochs= 200)"
      ]
    },
    {
      "cell_type": "markdown",
      "metadata": {
        "id": "9WS4NCljJQtL"
      },
      "source": [
        "# <div style=\"direction:rtl;text-align:right;font-family:B Lotus, B Nazanin, Tahoma\">سوال 4:</div>\n",
        "<div style=\"direction:rtl;text-align:right;font-family:Tahoma\">\n",
        "مدل را روی داده های test ارزیابی کنید.\n",
        "<br>\n",
        "<b>راهنمایی: </b>\n",
        "از تابع model.evaluate استفاده کنید.\n",
        "</div>"
      ]
    },
    {
      "cell_type": "code",
      "execution_count": null,
      "metadata": {
        "id": "qv9StKMuJQtL",
        "outputId": "e100ca13-f906-4ad9-9c93-5147b261f1ae",
        "colab": {
          "base_uri": "https://localhost:8080/"
        }
      },
      "outputs": [
        {
          "output_type": "stream",
          "name": "stdout",
          "text": [
            "1/1 [==============================] - 0s 186ms/step - loss: 0.1965 - accuracy: 0.9333\n",
            "Final test set loss: 0.196526\n",
            "Final test set accuracy: 0.933333\n"
          ]
        }
      ],
      "source": [
        "# Test on unseen data\n",
        "results = model.evaluate(test_x, test_y)\n",
        "\n",
        "print('Final test set loss: {:4f}'.format(results[0]))\n",
        "print('Final test set accuracy: {:4f}'.format(results[1]))"
      ]
    },
    {
      "cell_type": "markdown",
      "metadata": {
        "id": "vssDAreHJQtL"
      },
      "source": [
        "<div class=\"alert alert-block alert-info\">\n",
        "<div style=\"direction:rtl;text-align:right;font-family:B Lotus, B Nazanin, Tahoma\"> دوره مقدماتی یادگیری عمیق<br>علیرضا اخوان پور<br>پنج شنبه، ۱۸ و ۲۵ بهمن ۱۳۹۷<br>\n",
        "</div>\n",
        "<a href=\"http://class.vision\">Class.Vision</a> - <a href=\"http://AkhavanPour.ir\">AkhavanPour.ir</a> - <a href=\"https://github.com/Alireza-Akhavan/\">GitHub</a>\n",
        "\n",
        "</div>"
      ]
    }
  ],
  "metadata": {
    "kernelspec": {
      "display_name": "tensorflow",
      "language": "python",
      "name": "tensorflow"
    },
    "language_info": {
      "codemirror_mode": {
        "name": "ipython",
        "version": 3
      },
      "file_extension": ".py",
      "mimetype": "text/x-python",
      "name": "python",
      "nbconvert_exporter": "python",
      "pygments_lexer": "ipython3",
      "version": "3.6.8"
    },
    "colab": {
      "name": "Copy of ex1-mlp-iris.ipynb",
      "provenance": []
    },
    "accelerator": "GPU"
  },
  "nbformat": 4,
  "nbformat_minor": 0
}