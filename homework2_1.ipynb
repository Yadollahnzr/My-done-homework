{
  "nbformat": 4,
  "nbformat_minor": 0,
  "metadata": {
    "colab": {
      "name": "homework2_1.ipynb",
      "provenance": []
    },
    "kernelspec": {
      "name": "python3",
      "display_name": "Python 3"
    },
    "language_info": {
      "name": "python"
    },
    "accelerator": "GPU"
  },
  "cells": [
    {
      "cell_type": "code",
      "execution_count": 99,
      "metadata": {
        "id": "un8nvweYBk9t"
      },
      "outputs": [],
      "source": [
        "import numpy as np\n",
        "from tensorflow import keras\n",
        "from sklearn.model_selection import train_test_split\n",
        "from keras.models import Sequential\n",
        "from keras.layers import Dense, Dropout\n",
        "from tensorflow.keras.optimizers import Adam"
      ]
    },
    {
      "cell_type": "code",
      "source": [
        "fashion_mnist = keras.datasets.fashion_mnist\n",
        "(train_images, train_labels), (test_images, test_labels) = fashion_mnist.load_data()"
      ],
      "metadata": {
        "id": "LhIy045uh4G5"
      },
      "execution_count": 100,
      "outputs": []
    },
    {
      "cell_type": "code",
      "source": [
        "number_of_classes = len(np.unique(train_labels))\n",
        "print(number_of_classes)\n",
        "lbl_train = keras.utils.to_categorical(train_labels,number_of_classes)\n",
        "lbl_test = keras.utils.to_categorical(test_labels,number_of_classes)"
      ],
      "metadata": {
        "colab": {
          "base_uri": "https://localhost:8080/"
        },
        "id": "6VdWy2Phh9dX",
        "outputId": "56bc1bd3-ac45-4a77-8141-c96b0b08085c"
      },
      "execution_count": 101,
      "outputs": [
        {
          "output_type": "stream",
          "name": "stdout",
          "text": [
            "10\n"
          ]
        }
      ]
    },
    {
      "cell_type": "code",
      "source": [
        "import matplotlib.pyplot as plt\n",
        "import random\n",
        "index = random.randint(0,np.size(train_images,-1))\n",
        "plt.imshow(train_images[index],cmap='gray')"
      ],
      "metadata": {
        "colab": {
          "base_uri": "https://localhost:8080/",
          "height": 282
        },
        "id": "M58AmHOBirc_",
        "outputId": "1f2c3342-a688-4e31-9a21-b9e6f7ba4f35"
      },
      "execution_count": 102,
      "outputs": [
        {
          "output_type": "execute_result",
          "data": {
            "text/plain": [
              "<matplotlib.image.AxesImage at 0x7fbc967230d0>"
            ]
          },
          "metadata": {},
          "execution_count": 102
        },
        {
          "output_type": "display_data",
          "data": {
            "image/png": "[encoded data removed]",
            "text/plain": [
              "<Figure size 432x288 with 1 Axes>"
            ]
          },
          "metadata": {
            "needs_background": "light"
          }
        }
      ]
    },
    {
      "cell_type": "code",
      "source": [
        "img_train = np.reshape(train_images / 255 , (-1,28,28,1))\n",
        "img_test = np.reshape(test_images / 255 , (-1,28,28,1))"
      ],
      "metadata": {
        "id": "5cQQuefvivlz"
      },
      "execution_count": 103,
      "outputs": []
    },
    {
      "cell_type": "code",
      "source": [
        "from keras import layers\n",
        "model = Sequential()\n",
        "model.add(layers.Conv2D(32,(3,3),activation = 'relu',input_shape=img_train[0].shape))\n",
        "model.add(layers.Conv2D(32,(3,3),activation = 'relu'))\n",
        "model.add(layers.Conv2D(10,(3,3),activation = 'relu'))\n",
        "model.add(layers.Conv2D(10,(3,3),activation = 'relu'))\n",
        "model.add(layers.MaxPool2D())\n",
        "model.add(layers.Conv2D(32,(3,3),activation = 'relu'))\n",
        "model.add(layers.Flatten())\n",
        "model.add(layers.Dropout(0.5))\n",
        "model.add(layers.Dense(number_of_classes,activation='softmax'))\n",
        "model.summary()"
      ],
      "metadata": {
        "colab": {
          "base_uri": "https://localhost:8080/"
        },
        "id": "WENckVVEjEyP",
        "outputId": "5a0cee3a-f7d7-41dd-87df-881f762da673"
      },
      "execution_count": 104,
      "outputs": [
        {
          "output_type": "stream",
          "name": "stdout",
          "text": [
            "Model: \"sequential_17\"\n",
            "_________________________________________________________________\n",
            " Layer (type)                Output Shape              Param #   \n",
            "=================================================================\n",
            " conv2d_29 (Conv2D)          (None, 26, 26, 32)        320       \n",
            "                                                                 \n",
            " conv2d_30 (Conv2D)          (None, 24, 24, 32)        9248      \n",
            "                                                                 \n",
            " conv2d_31 (Conv2D)          (None, 22, 22, 10)        2890      \n",
            "                                                                 \n",
            " conv2d_32 (Conv2D)          (None, 20, 20, 10)        910       \n",
            "                                                                 \n",
            " max_pooling2d_5 (MaxPooling  (None, 10, 10, 10)       0         \n",
            " 2D)                                                             \n",
            "                                                                 \n",
            " conv2d_33 (Conv2D)          (None, 8, 8, 32)          2912      \n",
            "                                                                 \n",
            " flatten_6 (Flatten)         (None, 2048)              0         \n",
            "                                                                 \n",
            " dropout_2 (Dropout)         (None, 2048)              0         \n",
            "                                                                 \n",
            " dense_12 (Dense)            (None, 10)                20490     \n",
            "                                                                 \n",
            "=================================================================\n",
            "Total params: 36,770\n",
            "Trainable params: 36,770\n",
            "Non-trainable params: 0\n",
            "_________________________________________________________________\n"
          ]
        }
      ]
    },
    {
      "cell_type": "code",
      "source": [
        "optimizer = Adam(lr=0.001)\n",
        "model.compile(optimizer , loss='categorical_crossentropy', metrics=['accuracy'])"
      ],
      "metadata": {
        "colab": {
          "base_uri": "https://localhost:8080/"
        },
        "id": "7b3pCVs7j73x",
        "outputId": "1061f865-3607-4cc6-fa82-873a5ad51901"
      },
      "execution_count": 107,
      "outputs": [
        {
          "output_type": "stream",
          "name": "stderr",
          "text": [
            "/usr/local/lib/python3.7/dist-packages/keras/optimizer_v2/adam.py:105: UserWarning: The `lr` argument is deprecated, use `learning_rate` instead.\n",
            "  super(Adam, self).__init__(name, **kwargs)\n"
          ]
        }
      ]
    },
    {
      "cell_type": "code",
      "source": [
        "h=model.fit(img_train,lbl_train,batch_size = 64 , epochs = 100 , validation_split=0.2)"
      ],
      "metadata": {
        "colab": {
          "base_uri": "https://localhost:8080/"
        },
        "id": "NFW58ItbkCuq",
        "outputId": "79d7927f-d1dc-4317-83ac-da8fd4a74807"
      },
      "execution_count": 108,
      "outputs": [
        {
          "output_type": "stream",
          "name": "stdout",
          "text": [
            "Epoch 1/100\n",
            "750/750 [==============================] - 9s 12ms/step - loss: 0.3931 - accuracy: 0.8526 - val_loss: 0.3670 - val_accuracy: 0.8646\n",
            "Epoch 2/100\n",
            "750/750 [==============================] - 8s 11ms/step - loss: 0.3837 - accuracy: 0.8574 - val_loss: 0.3629 - val_accuracy: 0.8677\n",
            "Epoch 3/100\n",
            "750/750 [==============================] - 8s 11ms/step - loss: 0.3795 - accuracy: 0.8580 - val_loss: 0.3595 - val_accuracy: 0.8681\n",
            "Epoch 4/100\n",
            "750/750 [==============================] - 8s 11ms/step - loss: 0.3749 - accuracy: 0.8606 - val_loss: 0.3599 - val_accuracy: 0.8668\n",
            "Epoch 5/100\n",
            "750/750 [==============================] - 8s 11ms/step - loss: 0.3735 - accuracy: 0.8591 - val_loss: 0.3558 - val_accuracy: 0.8688\n",
            "Epoch 6/100\n",
            "750/750 [==============================] - 8s 11ms/step - loss: 0.3727 - accuracy: 0.8600 - val_loss: 0.3558 - val_accuracy: 0.8701\n",
            "Epoch 7/100\n",
            "750/750 [==============================] - 8s 11ms/step - loss: 0.3671 - accuracy: 0.8622 - val_loss: 0.3529 - val_accuracy: 0.8702\n",
            "Epoch 8/100\n",
            "750/750 [==============================] - 8s 11ms/step - loss: 0.3691 - accuracy: 0.8617 - val_loss: 0.3537 - val_accuracy: 0.8720\n",
            "Epoch 9/100\n",
            "750/750 [==============================] - 8s 11ms/step - loss: 0.3670 - accuracy: 0.8624 - val_loss: 0.3545 - val_accuracy: 0.8695\n",
            "Epoch 10/100\n",
            "750/750 [==============================] - 8s 11ms/step - loss: 0.3633 - accuracy: 0.8645 - val_loss: 0.3512 - val_accuracy: 0.8699\n",
            "Epoch 11/100\n",
            "750/750 [==============================] - 8s 11ms/step - loss: 0.3650 - accuracy: 0.8630 - val_loss: 0.3508 - val_accuracy: 0.8714\n",
            "Epoch 12/100\n",
            "750/750 [==============================] - 8s 11ms/step - loss: 0.3614 - accuracy: 0.8643 - val_loss: 0.3487 - val_accuracy: 0.8710\n",
            "Epoch 13/100\n",
            "750/750 [==============================] - 8s 11ms/step - loss: 0.3600 - accuracy: 0.8645 - val_loss: 0.3471 - val_accuracy: 0.8737\n",
            "Epoch 14/100\n",
            "750/750 [==============================] - 8s 11ms/step - loss: 0.3593 - accuracy: 0.8659 - val_loss: 0.3437 - val_accuracy: 0.8746\n",
            "Epoch 15/100\n",
            "750/750 [==============================] - 8s 11ms/step - loss: 0.3566 - accuracy: 0.8654 - val_loss: 0.3453 - val_accuracy: 0.8733\n",
            "Epoch 16/100\n",
            "750/750 [==============================] - 8s 11ms/step - loss: 0.3571 - accuracy: 0.8670 - val_loss: 0.3439 - val_accuracy: 0.8747\n",
            "Epoch 17/100\n",
            "750/750 [==============================] - 8s 11ms/step - loss: 0.3550 - accuracy: 0.8674 - val_loss: 0.3461 - val_accuracy: 0.8756\n",
            "Epoch 18/100\n",
            "750/750 [==============================] - 8s 11ms/step - loss: 0.3497 - accuracy: 0.8709 - val_loss: 0.3396 - val_accuracy: 0.8769\n",
            "Epoch 19/100\n",
            "750/750 [==============================] - 9s 11ms/step - loss: 0.3486 - accuracy: 0.8704 - val_loss: 0.3402 - val_accuracy: 0.8753\n",
            "Epoch 20/100\n",
            "750/750 [==============================] - 8s 11ms/step - loss: 0.3491 - accuracy: 0.8695 - val_loss: 0.3383 - val_accuracy: 0.8766\n",
            "Epoch 21/100\n",
            "750/750 [==============================] - 8s 11ms/step - loss: 0.3461 - accuracy: 0.8716 - val_loss: 0.3336 - val_accuracy: 0.8793\n",
            "Epoch 22/100\n",
            "750/750 [==============================] - 8s 11ms/step - loss: 0.3451 - accuracy: 0.8721 - val_loss: 0.3354 - val_accuracy: 0.8788\n",
            "Epoch 23/100\n",
            "750/750 [==============================] - 8s 11ms/step - loss: 0.3439 - accuracy: 0.8737 - val_loss: 0.3330 - val_accuracy: 0.8802\n",
            "Epoch 24/100\n",
            "750/750 [==============================] - 8s 11ms/step - loss: 0.3442 - accuracy: 0.8727 - val_loss: 0.3303 - val_accuracy: 0.8797\n",
            "Epoch 25/100\n",
            "750/750 [==============================] - 8s 11ms/step - loss: 0.3424 - accuracy: 0.8737 - val_loss: 0.3302 - val_accuracy: 0.8817\n",
            "Epoch 26/100\n",
            "750/750 [==============================] - 8s 11ms/step - loss: 0.3397 - accuracy: 0.8748 - val_loss: 0.3282 - val_accuracy: 0.8792\n",
            "Epoch 27/100\n",
            "750/750 [==============================] - 8s 11ms/step - loss: 0.3404 - accuracy: 0.8744 - val_loss: 0.3287 - val_accuracy: 0.8807\n",
            "Epoch 28/100\n",
            "750/750 [==============================] - 9s 11ms/step - loss: 0.3396 - accuracy: 0.8737 - val_loss: 0.3325 - val_accuracy: 0.8781\n",
            "Epoch 29/100\n",
            "750/750 [==============================] - 8s 11ms/step - loss: 0.3379 - accuracy: 0.8738 - val_loss: 0.3247 - val_accuracy: 0.8807\n",
            "Epoch 30/100\n",
            "750/750 [==============================] - 8s 11ms/step - loss: 0.3383 - accuracy: 0.8743 - val_loss: 0.3280 - val_accuracy: 0.8798\n",
            "Epoch 31/100\n",
            "750/750 [==============================] - 8s 11ms/step - loss: 0.3333 - accuracy: 0.8761 - val_loss: 0.3257 - val_accuracy: 0.8808\n",
            "Epoch 32/100\n",
            "750/750 [==============================] - 8s 11ms/step - loss: 0.3351 - accuracy: 0.8775 - val_loss: 0.3254 - val_accuracy: 0.8832\n",
            "Epoch 33/100\n",
            "750/750 [==============================] - 8s 11ms/step - loss: 0.3360 - accuracy: 0.8754 - val_loss: 0.3239 - val_accuracy: 0.8810\n",
            "Epoch 34/100\n",
            "750/750 [==============================] - 8s 11ms/step - loss: 0.3353 - accuracy: 0.8756 - val_loss: 0.3239 - val_accuracy: 0.8817\n",
            "Epoch 35/100\n",
            "750/750 [==============================] - 8s 11ms/step - loss: 0.3330 - accuracy: 0.8779 - val_loss: 0.3340 - val_accuracy: 0.8794\n",
            "Epoch 36/100\n",
            "750/750 [==============================] - 8s 11ms/step - loss: 0.3336 - accuracy: 0.8751 - val_loss: 0.3313 - val_accuracy: 0.8809\n",
            "Epoch 37/100\n",
            "750/750 [==============================] - 8s 11ms/step - loss: 0.3309 - accuracy: 0.8777 - val_loss: 0.3202 - val_accuracy: 0.8838\n",
            "Epoch 38/100\n",
            "750/750 [==============================] - 8s 11ms/step - loss: 0.3285 - accuracy: 0.8785 - val_loss: 0.3270 - val_accuracy: 0.8823\n",
            "Epoch 39/100\n",
            "750/750 [==============================] - 8s 11ms/step - loss: 0.3275 - accuracy: 0.8775 - val_loss: 0.3240 - val_accuracy: 0.8832\n",
            "Epoch 40/100\n",
            "750/750 [==============================] - 8s 11ms/step - loss: 0.3296 - accuracy: 0.8799 - val_loss: 0.3187 - val_accuracy: 0.8838\n",
            "Epoch 41/100\n",
            "750/750 [==============================] - 8s 11ms/step - loss: 0.3301 - accuracy: 0.8797 - val_loss: 0.3184 - val_accuracy: 0.8844\n",
            "Epoch 42/100\n",
            "750/750 [==============================] - 8s 11ms/step - loss: 0.3299 - accuracy: 0.8783 - val_loss: 0.3237 - val_accuracy: 0.8828\n",
            "Epoch 43/100\n",
            "750/750 [==============================] - 8s 11ms/step - loss: 0.3287 - accuracy: 0.8783 - val_loss: 0.3195 - val_accuracy: 0.8848\n",
            "Epoch 44/100\n",
            "750/750 [==============================] - 8s 11ms/step - loss: 0.3262 - accuracy: 0.8804 - val_loss: 0.3182 - val_accuracy: 0.8853\n",
            "Epoch 45/100\n",
            "750/750 [==============================] - 8s 11ms/step - loss: 0.3260 - accuracy: 0.8794 - val_loss: 0.3225 - val_accuracy: 0.8848\n",
            "Epoch 46/100\n",
            "750/750 [==============================] - 8s 11ms/step - loss: 0.3286 - accuracy: 0.8771 - val_loss: 0.3189 - val_accuracy: 0.8838\n",
            "Epoch 47/100\n",
            "750/750 [==============================] - 8s 11ms/step - loss: 0.3267 - accuracy: 0.8797 - val_loss: 0.3180 - val_accuracy: 0.8841\n",
            "Epoch 48/100\n",
            "750/750 [==============================] - 8s 11ms/step - loss: 0.3267 - accuracy: 0.8795 - val_loss: 0.3190 - val_accuracy: 0.8849\n",
            "Epoch 49/100\n",
            "750/750 [==============================] - 8s 11ms/step - loss: 0.3235 - accuracy: 0.8800 - val_loss: 0.3171 - val_accuracy: 0.8860\n",
            "Epoch 50/100\n",
            "750/750 [==============================] - 8s 11ms/step - loss: 0.3228 - accuracy: 0.8815 - val_loss: 0.3202 - val_accuracy: 0.8852\n",
            "Epoch 51/100\n",
            "750/750 [==============================] - 8s 11ms/step - loss: 0.3245 - accuracy: 0.8806 - val_loss: 0.3171 - val_accuracy: 0.8857\n",
            "Epoch 52/100\n",
            "750/750 [==============================] - 8s 11ms/step - loss: 0.3244 - accuracy: 0.8805 - val_loss: 0.3184 - val_accuracy: 0.8865\n",
            "Epoch 53/100\n",
            "750/750 [==============================] - 8s 11ms/step - loss: 0.3209 - accuracy: 0.8810 - val_loss: 0.3161 - val_accuracy: 0.8855\n",
            "Epoch 54/100\n",
            "750/750 [==============================] - 8s 11ms/step - loss: 0.3240 - accuracy: 0.8799 - val_loss: 0.3278 - val_accuracy: 0.8811\n",
            "Epoch 55/100\n",
            "750/750 [==============================] - 8s 11ms/step - loss: 0.3234 - accuracy: 0.8795 - val_loss: 0.3171 - val_accuracy: 0.8847\n",
            "Epoch 56/100\n",
            "750/750 [==============================] - 8s 11ms/step - loss: 0.3228 - accuracy: 0.8815 - val_loss: 0.3167 - val_accuracy: 0.8867\n",
            "Epoch 57/100\n",
            "750/750 [==============================] - 8s 11ms/step - loss: 0.3221 - accuracy: 0.8806 - val_loss: 0.3159 - val_accuracy: 0.8882\n",
            "Epoch 58/100\n",
            "750/750 [==============================] - 8s 11ms/step - loss: 0.3219 - accuracy: 0.8813 - val_loss: 0.3158 - val_accuracy: 0.8868\n",
            "Epoch 59/100\n",
            "750/750 [==============================] - 8s 11ms/step - loss: 0.3221 - accuracy: 0.8811 - val_loss: 0.3189 - val_accuracy: 0.8876\n",
            "Epoch 60/100\n",
            "750/750 [==============================] - 8s 11ms/step - loss: 0.3203 - accuracy: 0.8820 - val_loss: 0.3180 - val_accuracy: 0.8860\n",
            "Epoch 61/100\n",
            "750/750 [==============================] - 8s 11ms/step - loss: 0.3190 - accuracy: 0.8822 - val_loss: 0.3146 - val_accuracy: 0.8878\n",
            "Epoch 62/100\n",
            "750/750 [==============================] - 8s 11ms/step - loss: 0.3197 - accuracy: 0.8813 - val_loss: 0.3152 - val_accuracy: 0.8868\n",
            "Epoch 63/100\n",
            "750/750 [==============================] - 8s 11ms/step - loss: 0.3195 - accuracy: 0.8808 - val_loss: 0.3187 - val_accuracy: 0.8840\n",
            "Epoch 64/100\n",
            "750/750 [==============================] - 8s 11ms/step - loss: 0.3208 - accuracy: 0.8830 - val_loss: 0.3161 - val_accuracy: 0.8882\n",
            "Epoch 65/100\n",
            "750/750 [==============================] - 8s 11ms/step - loss: 0.3198 - accuracy: 0.8808 - val_loss: 0.3141 - val_accuracy: 0.8887\n",
            "Epoch 66/100\n",
            "750/750 [==============================] - 8s 11ms/step - loss: 0.3176 - accuracy: 0.8830 - val_loss: 0.3164 - val_accuracy: 0.8881\n",
            "Epoch 67/100\n",
            "750/750 [==============================] - 9s 11ms/step - loss: 0.3185 - accuracy: 0.8823 - val_loss: 0.3159 - val_accuracy: 0.8866\n",
            "Epoch 68/100\n",
            "750/750 [==============================] - 9s 11ms/step - loss: 0.3156 - accuracy: 0.8830 - val_loss: 0.3159 - val_accuracy: 0.8876\n",
            "Epoch 69/100\n",
            "750/750 [==============================] - 8s 11ms/step - loss: 0.3174 - accuracy: 0.8823 - val_loss: 0.3163 - val_accuracy: 0.8884\n",
            "Epoch 70/100\n",
            "750/750 [==============================] - 9s 11ms/step - loss: 0.3160 - accuracy: 0.8822 - val_loss: 0.3185 - val_accuracy: 0.8883\n",
            "Epoch 71/100\n",
            "750/750 [==============================] - 8s 11ms/step - loss: 0.3174 - accuracy: 0.8826 - val_loss: 0.3125 - val_accuracy: 0.8883\n",
            "Epoch 72/100\n",
            "750/750 [==============================] - 8s 11ms/step - loss: 0.3147 - accuracy: 0.8829 - val_loss: 0.3165 - val_accuracy: 0.8851\n",
            "Epoch 73/100\n",
            "750/750 [==============================] - 8s 11ms/step - loss: 0.3185 - accuracy: 0.8821 - val_loss: 0.3136 - val_accuracy: 0.8876\n",
            "Epoch 74/100\n",
            "750/750 [==============================] - 8s 11ms/step - loss: 0.3135 - accuracy: 0.8840 - val_loss: 0.3186 - val_accuracy: 0.8872\n",
            "Epoch 75/100\n",
            "750/750 [==============================] - 8s 11ms/step - loss: 0.3143 - accuracy: 0.8841 - val_loss: 0.3135 - val_accuracy: 0.8868\n",
            "Epoch 76/100\n",
            "750/750 [==============================] - 8s 11ms/step - loss: 0.3166 - accuracy: 0.8827 - val_loss: 0.3188 - val_accuracy: 0.8860\n",
            "Epoch 77/100\n",
            "750/750 [==============================] - 8s 11ms/step - loss: 0.3182 - accuracy: 0.8826 - val_loss: 0.3137 - val_accuracy: 0.8873\n",
            "Epoch 78/100\n",
            "750/750 [==============================] - 8s 11ms/step - loss: 0.3159 - accuracy: 0.8826 - val_loss: 0.3142 - val_accuracy: 0.8870\n",
            "Epoch 79/100\n",
            "750/750 [==============================] - 9s 11ms/step - loss: 0.3151 - accuracy: 0.8825 - val_loss: 0.3145 - val_accuracy: 0.8862\n",
            "Epoch 80/100\n",
            "750/750 [==============================] - 9s 11ms/step - loss: 0.3137 - accuracy: 0.8838 - val_loss: 0.3159 - val_accuracy: 0.8875\n",
            "Epoch 81/100\n",
            "750/750 [==============================] - 8s 11ms/step - loss: 0.3120 - accuracy: 0.8847 - val_loss: 0.3173 - val_accuracy: 0.8872\n",
            "Epoch 82/100\n",
            "750/750 [==============================] - 8s 11ms/step - loss: 0.3145 - accuracy: 0.8833 - val_loss: 0.3152 - val_accuracy: 0.8880\n",
            "Epoch 83/100\n",
            "750/750 [==============================] - 9s 11ms/step - loss: 0.3135 - accuracy: 0.8845 - val_loss: 0.3140 - val_accuracy: 0.8885\n",
            "Epoch 84/100\n",
            "750/750 [==============================] - 8s 11ms/step - loss: 0.3137 - accuracy: 0.8819 - val_loss: 0.3242 - val_accuracy: 0.8849\n",
            "Epoch 85/100\n",
            "750/750 [==============================] - 9s 11ms/step - loss: 0.3138 - accuracy: 0.8828 - val_loss: 0.3133 - val_accuracy: 0.8882\n",
            "Epoch 86/100\n",
            "750/750 [==============================] - 8s 11ms/step - loss: 0.3108 - accuracy: 0.8850 - val_loss: 0.3131 - val_accuracy: 0.8880\n",
            "Epoch 87/100\n",
            "750/750 [==============================] - 9s 11ms/step - loss: 0.3148 - accuracy: 0.8831 - val_loss: 0.3179 - val_accuracy: 0.8862\n",
            "Epoch 88/100\n",
            "750/750 [==============================] - 8s 11ms/step - loss: 0.3159 - accuracy: 0.8825 - val_loss: 0.3135 - val_accuracy: 0.8882\n",
            "Epoch 89/100\n",
            "750/750 [==============================] - 8s 11ms/step - loss: 0.3151 - accuracy: 0.8837 - val_loss: 0.3147 - val_accuracy: 0.8869\n",
            "Epoch 90/100\n",
            "750/750 [==============================] - 9s 11ms/step - loss: 0.3154 - accuracy: 0.8826 - val_loss: 0.3142 - val_accuracy: 0.8872\n",
            "Epoch 91/100\n",
            "750/750 [==============================] - 8s 11ms/step - loss: 0.3144 - accuracy: 0.8833 - val_loss: 0.3109 - val_accuracy: 0.8889\n",
            "Epoch 92/100\n",
            "750/750 [==============================] - 8s 11ms/step - loss: 0.3113 - accuracy: 0.8831 - val_loss: 0.3218 - val_accuracy: 0.8861\n",
            "Epoch 93/100\n",
            "750/750 [==============================] - 9s 11ms/step - loss: 0.3117 - accuracy: 0.8844 - val_loss: 0.3133 - val_accuracy: 0.8889\n",
            "Epoch 94/100\n",
            "750/750 [==============================] - 9s 11ms/step - loss: 0.3117 - accuracy: 0.8846 - val_loss: 0.3165 - val_accuracy: 0.8884\n",
            "Epoch 95/100\n",
            "750/750 [==============================] - 9s 11ms/step - loss: 0.3133 - accuracy: 0.8817 - val_loss: 0.3127 - val_accuracy: 0.8898\n",
            "Epoch 96/100\n",
            "750/750 [==============================] - 8s 11ms/step - loss: 0.3082 - accuracy: 0.8855 - val_loss: 0.3132 - val_accuracy: 0.8894\n",
            "Epoch 97/100\n",
            "750/750 [==============================] - 9s 11ms/step - loss: 0.3142 - accuracy: 0.8841 - val_loss: 0.3101 - val_accuracy: 0.8912\n",
            "Epoch 98/100\n",
            "750/750 [==============================] - 8s 11ms/step - loss: 0.3114 - accuracy: 0.8848 - val_loss: 0.3125 - val_accuracy: 0.8903\n",
            "Epoch 99/100\n",
            "750/750 [==============================] - 8s 11ms/step - loss: 0.3081 - accuracy: 0.8851 - val_loss: 0.3140 - val_accuracy: 0.8877\n",
            "Epoch 100/100\n",
            "750/750 [==============================] - 8s 11ms/step - loss: 0.3087 - accuracy: 0.8855 - val_loss: 0.3135 - val_accuracy: 0.8877\n"
          ]
        }
      ]
    },
    {
      "cell_type": "code",
      "source": [
        "import matplotlib.pyplot as plt\n",
        "h.history.keys()"
      ],
      "metadata": {
        "colab": {
          "base_uri": "https://localhost:8080/"
        },
        "id": "l1Z2mo7DelAE",
        "outputId": "e862a419-e1fc-4d90-ea9e-8303f359d2d1"
      },
      "execution_count": 109,
      "outputs": [
        {
          "output_type": "execute_result",
          "data": {
            "text/plain": [
              "dict_keys(['loss', 'accuracy', 'val_loss', 'val_accuracy'])"
            ]
          },
          "metadata": {},
          "execution_count": 109
        }
      ]
    },
    {
      "cell_type": "code",
      "source": [
        "plt.plot(h.history['loss'])"
      ],
      "metadata": {
        "colab": {
          "base_uri": "https://localhost:8080/",
          "height": 282
        },
        "id": "XXHTZwS3ex0J",
        "outputId": "35f02918-d1f9-4bd5-cb86-7e475dbbe916"
      },
      "execution_count": 110,
      "outputs": [
        {
          "output_type": "execute_result",
          "data": {
            "text/plain": [
              "[<matplotlib.lines.Line2D at 0x7fbd186a9d50>]"
            ]
          },
          "metadata": {},
          "execution_count": 110
        },
        {
          "output_type": "display_data",
          "data": {
            "image/png": "[encoded data removed]",
            "text/plain": [
              "<Figure size 432x288 with 1 Axes>"
            ]
          },
          "metadata": {
            "needs_background": "light"
          }
        }
      ]
    },
    {
      "cell_type": "code",
      "source": [
        "plt.plot(h.history['accuracy'])"
      ],
      "metadata": {
        "colab": {
          "base_uri": "https://localhost:8080/",
          "height": 282
        },
        "id": "caWf7-uzfu0O",
        "outputId": "ec8692ab-c0d3-4484-f0b7-53997b6e9769"
      },
      "execution_count": 111,
      "outputs": [
        {
          "output_type": "execute_result",
          "data": {
            "text/plain": [
              "[<matplotlib.lines.Line2D at 0x7fbd18615f50>]"
            ]
          },
          "metadata": {},
          "execution_count": 111
        },
        {
          "output_type": "display_data",
          "data": {
            "image/png": "[encoded data removed]",
            "text/plain": [
              "<Figure size 432x288 with 1 Axes>"
            ]
          },
          "metadata": {
            "needs_background": "light"
          }
        }
      ]
    },
    {
      "cell_type": "code",
      "source": [
        "model.evaluate(img_test, lbl_test)"
      ],
      "metadata": {
        "colab": {
          "base_uri": "https://localhost:8080/"
        },
        "id": "JWk7tLmbooCx",
        "outputId": "48bfce22-aca9-427b-f752-259cd2a2112a"
      },
      "execution_count": 112,
      "outputs": [
        {
          "output_type": "stream",
          "name": "stdout",
          "text": [
            "313/313 [==============================] - 2s 5ms/step - loss: 0.3322 - accuracy: 0.8792\n"
          ]
        },
        {
          "output_type": "execute_result",
          "data": {
            "text/plain": [
              "[0.3322041630744934, 0.8791999816894531]"
            ]
          },
          "metadata": {},
          "execution_count": 112
        }
      ]
    }
  ]
}