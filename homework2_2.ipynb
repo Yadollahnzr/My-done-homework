{
  "nbformat": 4,
  "nbformat_minor": 0,
  "metadata": {
    "colab": {
      "name": "homework2-2.ipynb",
      "provenance": []
    },
    "kernelspec": {
      "name": "python3",
      "display_name": "Python 3"
    },
    "language_info": {
      "name": "python"
    },
    "accelerator": "GPU"
  },
  "cells": [
    {
      "cell_type": "code",
      "execution_count": 59,
      "metadata": {
        "id": "BYQn9ix0VYQA"
      },
      "outputs": [],
      "source": [
        "import numpy as np\n",
        "from tensorflow import keras\n",
        "from sklearn.model_selection import train_test_split\n",
        "from keras.models import Sequential\n",
        "from keras import layers\n",
        "from keras.layers import Dense, Dropout"
      ]
    },
    {
      "cell_type": "code",
      "source": [
        "fashion_mnist = keras.datasets.fashion_mnist\n",
        "(train_images, train_labels), (test_images, test_labels) = fashion_mnist.load_data()"
      ],
      "metadata": {
        "id": "66hRcbPoVg3Q"
      },
      "execution_count": 60,
      "outputs": []
    },
    {
      "cell_type": "code",
      "source": [
        "img_train = train_images.reshape(-1,28,28,1)/255\n",
        "img_test = test_images.reshape(-1,28,28,1)/255"
      ],
      "metadata": {
        "id": "3rM8YbuRVwUZ"
      },
      "execution_count": 61,
      "outputs": []
    },
    {
      "cell_type": "code",
      "source": [
        "number_of_classes = train_labels.max()+1\n",
        "number_of_classes"
      ],
      "metadata": {
        "colab": {
          "base_uri": "https://localhost:8080/"
        },
        "id": "M0DiXOhTZR4j",
        "outputId": "165365d2-e8a5-4a13-dc46-76d1aa8eadf5"
      },
      "execution_count": 62,
      "outputs": [
        {
          "output_type": "execute_result",
          "data": {
            "text/plain": [
              "10"
            ]
          },
          "metadata": {},
          "execution_count": 62
        }
      ]
    },
    {
      "cell_type": "code",
      "source": [
        "model = Sequential()\n",
        "model.add(layers.Conv2D(32,(3,3), activation='relu', \n",
        "                        input_shape=img_train[0].shape))\n",
        "model.add(layers.Conv2D(64,(3,3), activation='relu'))\n",
        "model.add(layers.MaxPooling2D((2,2)))\n",
        "model.add(layers.Conv2D(128,(3,3), activation='relu'))\n",
        "model.add(layers.Flatten())\n",
        "model.add(layers.Dense(200,activation='relu'))\n",
        "model.add(layers.Dropout(0.5))\n",
        "model.add(layers.Dense(number_of_classes, activation='softmax'))\n",
        "model.summary()"
      ],
      "metadata": {
        "id": "0y9Ml8NVVw5y",
        "colab": {
          "base_uri": "https://localhost:8080/"
        },
        "outputId": "20fdc563-82e9-4e50-e4e9-34821cb08c2b"
      },
      "execution_count": 74,
      "outputs": [
        {
          "output_type": "stream",
          "name": "stdout",
          "text": [
            "Model: \"sequential_16\"\n",
            "_________________________________________________________________\n",
            " Layer (type)                Output Shape              Param #   \n",
            "=================================================================\n",
            " conv2d_38 (Conv2D)          (None, 26, 26, 32)        320       \n",
            "                                                                 \n",
            " conv2d_39 (Conv2D)          (None, 24, 24, 64)        18496     \n",
            "                                                                 \n",
            " max_pooling2d_11 (MaxPoolin  (None, 12, 12, 64)       0         \n",
            " g2D)                                                            \n",
            "                                                                 \n",
            " conv2d_40 (Conv2D)          (None, 10, 10, 128)       73856     \n",
            "                                                                 \n",
            " flatten_10 (Flatten)        (None, 12800)             0         \n",
            "                                                                 \n",
            " dense_20 (Dense)            (None, 200)               2560200   \n",
            "                                                                 \n",
            " dropout_6 (Dropout)         (None, 200)               0         \n",
            "                                                                 \n",
            " dense_21 (Dense)            (None, 10)                2010      \n",
            "                                                                 \n",
            "=================================================================\n",
            "Total params: 2,654,882\n",
            "Trainable params: 2,654,882\n",
            "Non-trainable params: 0\n",
            "_________________________________________________________________\n"
          ]
        }
      ]
    },
    {
      "cell_type": "code",
      "source": [
        "optimizer = keras.optimizers.Adam(0.001)\n",
        "model.compile(optimizer, \n",
        "              loss='sparse_categorical_crossentropy',\n",
        "              metrics=['accuracy'])"
      ],
      "metadata": {
        "id": "1eVZqh5KZy_M"
      },
      "execution_count": 75,
      "outputs": []
    },
    {
      "cell_type": "code",
      "source": [
        "model.fit(img_train,train_labels, batch_size=32, epochs=100, validation_split=0.2)"
      ],
      "metadata": {
        "colab": {
          "base_uri": "https://localhost:8080/"
        },
        "id": "0j-gmvi5Zyxp",
        "outputId": "524357b1-aecb-4603-c7d2-2292e4082eac"
      },
      "execution_count": 78,
      "outputs": [
        {
          "output_type": "stream",
          "name": "stdout",
          "text": [
            "Epoch 1/100\n",
            "1500/1500 [==============================] - 7s 5ms/step - loss: 0.0666 - accuracy: 0.9745 - val_loss: 0.3476 - val_accuracy: 0.9238\n",
            "Epoch 2/100\n",
            "1500/1500 [==============================] - 7s 5ms/step - loss: 0.0619 - accuracy: 0.9771 - val_loss: 0.4065 - val_accuracy: 0.9258\n",
            "Epoch 3/100\n",
            "1500/1500 [==============================] - 7s 5ms/step - loss: 0.0626 - accuracy: 0.9778 - val_loss: 0.3354 - val_accuracy: 0.9222\n",
            "Epoch 4/100\n",
            "1500/1500 [==============================] - 7s 5ms/step - loss: 0.0569 - accuracy: 0.9796 - val_loss: 0.3948 - val_accuracy: 0.9271\n",
            "Epoch 5/100\n",
            "1500/1500 [==============================] - 7s 4ms/step - loss: 0.0551 - accuracy: 0.9810 - val_loss: 0.4141 - val_accuracy: 0.9200\n",
            "Epoch 6/100\n",
            "1500/1500 [==============================] - 7s 5ms/step - loss: 0.0488 - accuracy: 0.9818 - val_loss: 0.4067 - val_accuracy: 0.9283\n",
            "Epoch 7/100\n",
            "1500/1500 [==============================] - 7s 4ms/step - loss: 0.0496 - accuracy: 0.9822 - val_loss: 0.4215 - val_accuracy: 0.9237\n",
            "Epoch 8/100\n",
            "1500/1500 [==============================] - 7s 5ms/step - loss: 0.0489 - accuracy: 0.9824 - val_loss: 0.4593 - val_accuracy: 0.9235\n",
            "Epoch 9/100\n",
            "1500/1500 [==============================] - 7s 4ms/step - loss: 0.0439 - accuracy: 0.9840 - val_loss: 0.4755 - val_accuracy: 0.9214\n",
            "Epoch 10/100\n",
            "1500/1500 [==============================] - 7s 5ms/step - loss: 0.0469 - accuracy: 0.9837 - val_loss: 0.4221 - val_accuracy: 0.9257\n",
            "Epoch 11/100\n",
            "1500/1500 [==============================] - 7s 4ms/step - loss: 0.0450 - accuracy: 0.9845 - val_loss: 0.4236 - val_accuracy: 0.9258\n",
            "Epoch 12/100\n",
            "1500/1500 [==============================] - 7s 5ms/step - loss: 0.0447 - accuracy: 0.9846 - val_loss: 0.4784 - val_accuracy: 0.9272\n",
            "Epoch 13/100\n",
            "1500/1500 [==============================] - 7s 5ms/step - loss: 0.0427 - accuracy: 0.9854 - val_loss: 0.5162 - val_accuracy: 0.9277\n",
            "Epoch 14/100\n",
            "1500/1500 [==============================] - 7s 4ms/step - loss: 0.0392 - accuracy: 0.9866 - val_loss: 0.5263 - val_accuracy: 0.9233\n",
            "Epoch 15/100\n",
            "1500/1500 [==============================] - 7s 4ms/step - loss: 0.0385 - accuracy: 0.9864 - val_loss: 0.4602 - val_accuracy: 0.9237\n",
            "Epoch 16/100\n",
            "1500/1500 [==============================] - 7s 4ms/step - loss: 0.0400 - accuracy: 0.9865 - val_loss: 0.4849 - val_accuracy: 0.9224\n",
            "Epoch 17/100\n",
            "1500/1500 [==============================] - 7s 4ms/step - loss: 0.0362 - accuracy: 0.9874 - val_loss: 0.4698 - val_accuracy: 0.9230\n",
            "Epoch 18/100\n",
            "1500/1500 [==============================] - 7s 5ms/step - loss: 0.0333 - accuracy: 0.9887 - val_loss: 0.5615 - val_accuracy: 0.9224\n",
            "Epoch 19/100\n",
            "1500/1500 [==============================] - 7s 5ms/step - loss: 0.0393 - accuracy: 0.9871 - val_loss: 0.6006 - val_accuracy: 0.9252\n",
            "Epoch 20/100\n",
            "1500/1500 [==============================] - 7s 5ms/step - loss: 0.0323 - accuracy: 0.9892 - val_loss: 0.5840 - val_accuracy: 0.9217\n",
            "Epoch 21/100\n",
            "1500/1500 [==============================] - 7s 4ms/step - loss: 0.0388 - accuracy: 0.9874 - val_loss: 0.4884 - val_accuracy: 0.9270\n",
            "Epoch 22/100\n",
            "1500/1500 [==============================] - 7s 5ms/step - loss: 0.0367 - accuracy: 0.9880 - val_loss: 0.5677 - val_accuracy: 0.9220\n",
            "Epoch 23/100\n",
            "1500/1500 [==============================] - 7s 4ms/step - loss: 0.0311 - accuracy: 0.9895 - val_loss: 0.6086 - val_accuracy: 0.9239\n",
            "Epoch 24/100\n",
            "1500/1500 [==============================] - 7s 5ms/step - loss: 0.0344 - accuracy: 0.9889 - val_loss: 0.7107 - val_accuracy: 0.9270\n",
            "Epoch 25/100\n",
            "1500/1500 [==============================] - 7s 4ms/step - loss: 0.0341 - accuracy: 0.9890 - val_loss: 0.5827 - val_accuracy: 0.9223\n",
            "Epoch 26/100\n",
            "1500/1500 [==============================] - 7s 5ms/step - loss: 0.0319 - accuracy: 0.9891 - val_loss: 0.5580 - val_accuracy: 0.9293\n",
            "Epoch 27/100\n",
            "1500/1500 [==============================] - 7s 5ms/step - loss: 0.0332 - accuracy: 0.9893 - val_loss: 0.5707 - val_accuracy: 0.9233\n",
            "Epoch 28/100\n",
            "1500/1500 [==============================] - 7s 5ms/step - loss: 0.0353 - accuracy: 0.9893 - val_loss: 0.5612 - val_accuracy: 0.9258\n",
            "Epoch 29/100\n",
            "1500/1500 [==============================] - 7s 4ms/step - loss: 0.0334 - accuracy: 0.9897 - val_loss: 0.6088 - val_accuracy: 0.9249\n",
            "Epoch 30/100\n",
            "1500/1500 [==============================] - 7s 5ms/step - loss: 0.0329 - accuracy: 0.9898 - val_loss: 0.6200 - val_accuracy: 0.9229\n",
            "Epoch 31/100\n",
            "1500/1500 [==============================] - 7s 5ms/step - loss: 0.0287 - accuracy: 0.9902 - val_loss: 0.7722 - val_accuracy: 0.9261\n",
            "Epoch 32/100\n",
            "1500/1500 [==============================] - 7s 4ms/step - loss: 0.0310 - accuracy: 0.9905 - val_loss: 0.7140 - val_accuracy: 0.9249\n",
            "Epoch 33/100\n",
            "1500/1500 [==============================] - 7s 5ms/step - loss: 0.0301 - accuracy: 0.9904 - val_loss: 0.7132 - val_accuracy: 0.9246\n",
            "Epoch 34/100\n",
            "1500/1500 [==============================] - 7s 4ms/step - loss: 0.0301 - accuracy: 0.9900 - val_loss: 0.6184 - val_accuracy: 0.9234\n",
            "Epoch 35/100\n",
            "1500/1500 [==============================] - 7s 5ms/step - loss: 0.0344 - accuracy: 0.9898 - val_loss: 0.5913 - val_accuracy: 0.9201\n",
            "Epoch 36/100\n",
            "1500/1500 [==============================] - 7s 5ms/step - loss: 0.0308 - accuracy: 0.9903 - val_loss: 0.6863 - val_accuracy: 0.9270\n",
            "Epoch 37/100\n",
            "1500/1500 [==============================] - 7s 5ms/step - loss: 0.0327 - accuracy: 0.9900 - val_loss: 0.6708 - val_accuracy: 0.9280\n",
            "Epoch 38/100\n",
            "1500/1500 [==============================] - 7s 5ms/step - loss: 0.0270 - accuracy: 0.9911 - val_loss: 0.7360 - val_accuracy: 0.9245\n",
            "Epoch 39/100\n",
            "1500/1500 [==============================] - 7s 5ms/step - loss: 0.0301 - accuracy: 0.9907 - val_loss: 0.6313 - val_accuracy: 0.9246\n",
            "Epoch 40/100\n",
            "1500/1500 [==============================] - 7s 5ms/step - loss: 0.0307 - accuracy: 0.9906 - val_loss: 0.7910 - val_accuracy: 0.9230\n",
            "Epoch 41/100\n",
            "1500/1500 [==============================] - 7s 5ms/step - loss: 0.0331 - accuracy: 0.9896 - val_loss: 0.6384 - val_accuracy: 0.9234\n",
            "Epoch 42/100\n",
            "1500/1500 [==============================] - 7s 5ms/step - loss: 0.0264 - accuracy: 0.9918 - val_loss: 0.9097 - val_accuracy: 0.9248\n",
            "Epoch 43/100\n",
            "1500/1500 [==============================] - 7s 5ms/step - loss: 0.0267 - accuracy: 0.9920 - val_loss: 0.7379 - val_accuracy: 0.9245\n",
            "Epoch 44/100\n",
            "1500/1500 [==============================] - 7s 5ms/step - loss: 0.0335 - accuracy: 0.9903 - val_loss: 0.8515 - val_accuracy: 0.9279\n",
            "Epoch 45/100\n",
            "1500/1500 [==============================] - 7s 5ms/step - loss: 0.0299 - accuracy: 0.9914 - val_loss: 0.7654 - val_accuracy: 0.9252\n",
            "Epoch 46/100\n",
            "1500/1500 [==============================] - 7s 4ms/step - loss: 0.0311 - accuracy: 0.9910 - val_loss: 0.8875 - val_accuracy: 0.9239\n",
            "Epoch 47/100\n",
            "1500/1500 [==============================] - 7s 5ms/step - loss: 0.0271 - accuracy: 0.9915 - val_loss: 0.8300 - val_accuracy: 0.9230\n",
            "Epoch 48/100\n",
            "1500/1500 [==============================] - 7s 5ms/step - loss: 0.0307 - accuracy: 0.9904 - val_loss: 0.7470 - val_accuracy: 0.9241\n",
            "Epoch 49/100\n",
            "1500/1500 [==============================] - 7s 5ms/step - loss: 0.0285 - accuracy: 0.9917 - val_loss: 0.8072 - val_accuracy: 0.9249\n",
            "Epoch 50/100\n",
            "1500/1500 [==============================] - 7s 4ms/step - loss: 0.0276 - accuracy: 0.9913 - val_loss: 0.7643 - val_accuracy: 0.9258\n",
            "Epoch 51/100\n",
            "1500/1500 [==============================] - 7s 4ms/step - loss: 0.0287 - accuracy: 0.9915 - val_loss: 0.7564 - val_accuracy: 0.9262\n",
            "Epoch 52/100\n",
            "1500/1500 [==============================] - 7s 5ms/step - loss: 0.0257 - accuracy: 0.9921 - val_loss: 0.7689 - val_accuracy: 0.9229\n",
            "Epoch 53/100\n",
            "1500/1500 [==============================] - 7s 5ms/step - loss: 0.0318 - accuracy: 0.9910 - val_loss: 0.8805 - val_accuracy: 0.9241\n",
            "Epoch 54/100\n",
            "1500/1500 [==============================] - 7s 4ms/step - loss: 0.0282 - accuracy: 0.9917 - val_loss: 0.8353 - val_accuracy: 0.9272\n",
            "Epoch 55/100\n",
            "1500/1500 [==============================] - 7s 5ms/step - loss: 0.0317 - accuracy: 0.9918 - val_loss: 0.9855 - val_accuracy: 0.9212\n",
            "Epoch 56/100\n",
            "1500/1500 [==============================] - 7s 5ms/step - loss: 0.0288 - accuracy: 0.9920 - val_loss: 0.8334 - val_accuracy: 0.9268\n",
            "Epoch 57/100\n",
            "1500/1500 [==============================] - 8s 5ms/step - loss: 0.0246 - accuracy: 0.9927 - val_loss: 0.7199 - val_accuracy: 0.9270\n",
            "Epoch 58/100\n",
            "1500/1500 [==============================] - 7s 5ms/step - loss: 0.0349 - accuracy: 0.9905 - val_loss: 0.7911 - val_accuracy: 0.9278\n",
            "Epoch 59/100\n",
            "1500/1500 [==============================] - 7s 5ms/step - loss: 0.0307 - accuracy: 0.9914 - val_loss: 0.7115 - val_accuracy: 0.9258\n",
            "Epoch 60/100\n",
            "1500/1500 [==============================] - 7s 5ms/step - loss: 0.0250 - accuracy: 0.9926 - val_loss: 1.0171 - val_accuracy: 0.9274\n",
            "Epoch 61/100\n",
            "1500/1500 [==============================] - 7s 5ms/step - loss: 0.0295 - accuracy: 0.9923 - val_loss: 0.7850 - val_accuracy: 0.9272\n",
            "Epoch 62/100\n",
            "1500/1500 [==============================] - 7s 5ms/step - loss: 0.0334 - accuracy: 0.9908 - val_loss: 0.8689 - val_accuracy: 0.9263\n",
            "Epoch 63/100\n",
            "1500/1500 [==============================] - 7s 5ms/step - loss: 0.0249 - accuracy: 0.9927 - val_loss: 0.8882 - val_accuracy: 0.9290\n",
            "Epoch 64/100\n",
            "1500/1500 [==============================] - 7s 4ms/step - loss: 0.0258 - accuracy: 0.9928 - val_loss: 0.8264 - val_accuracy: 0.9243\n",
            "Epoch 65/100\n",
            "1500/1500 [==============================] - 7s 5ms/step - loss: 0.0282 - accuracy: 0.9921 - val_loss: 0.9910 - val_accuracy: 0.9239\n",
            "Epoch 66/100\n",
            "1500/1500 [==============================] - 7s 5ms/step - loss: 0.0299 - accuracy: 0.9915 - val_loss: 0.9824 - val_accuracy: 0.9273\n",
            "Epoch 67/100\n",
            "1500/1500 [==============================] - 7s 5ms/step - loss: 0.0314 - accuracy: 0.9913 - val_loss: 1.0350 - val_accuracy: 0.9246\n",
            "Epoch 68/100\n",
            "1500/1500 [==============================] - 7s 5ms/step - loss: 0.0303 - accuracy: 0.9912 - val_loss: 0.6553 - val_accuracy: 0.9252\n",
            "Epoch 69/100\n",
            "1500/1500 [==============================] - 7s 4ms/step - loss: 0.0258 - accuracy: 0.9928 - val_loss: 0.9178 - val_accuracy: 0.9239\n",
            "Epoch 70/100\n",
            "1500/1500 [==============================] - 7s 5ms/step - loss: 0.0308 - accuracy: 0.9922 - val_loss: 0.9741 - val_accuracy: 0.9233\n",
            "Epoch 71/100\n",
            "1500/1500 [==============================] - 7s 5ms/step - loss: 0.0294 - accuracy: 0.9921 - val_loss: 0.6762 - val_accuracy: 0.9241\n",
            "Epoch 72/100\n",
            "1500/1500 [==============================] - 7s 4ms/step - loss: 0.0307 - accuracy: 0.9920 - val_loss: 0.8694 - val_accuracy: 0.9259\n",
            "Epoch 73/100\n",
            "1500/1500 [==============================] - 7s 5ms/step - loss: 0.0283 - accuracy: 0.9926 - val_loss: 0.8958 - val_accuracy: 0.9227\n",
            "Epoch 74/100\n",
            "1500/1500 [==============================] - 7s 5ms/step - loss: 0.0263 - accuracy: 0.9933 - val_loss: 0.7984 - val_accuracy: 0.9250\n",
            "Epoch 75/100\n",
            "1500/1500 [==============================] - 7s 5ms/step - loss: 0.0308 - accuracy: 0.9922 - val_loss: 0.9282 - val_accuracy: 0.9255\n",
            "Epoch 76/100\n",
            "1500/1500 [==============================] - 7s 5ms/step - loss: 0.0307 - accuracy: 0.9921 - val_loss: 1.2440 - val_accuracy: 0.9243\n",
            "Epoch 77/100\n",
            "1500/1500 [==============================] - 7s 5ms/step - loss: 0.0308 - accuracy: 0.9920 - val_loss: 1.1297 - val_accuracy: 0.9251\n",
            "Epoch 78/100\n",
            "1500/1500 [==============================] - 7s 5ms/step - loss: 0.0252 - accuracy: 0.9931 - val_loss: 0.9898 - val_accuracy: 0.9243\n",
            "Epoch 79/100\n",
            "1500/1500 [==============================] - 7s 5ms/step - loss: 0.0299 - accuracy: 0.9924 - val_loss: 1.0148 - val_accuracy: 0.9233\n",
            "Epoch 80/100\n",
            "1500/1500 [==============================] - 7s 5ms/step - loss: 0.0328 - accuracy: 0.9920 - val_loss: 1.0459 - val_accuracy: 0.9245\n",
            "Epoch 81/100\n",
            "1500/1500 [==============================] - 7s 5ms/step - loss: 0.0311 - accuracy: 0.9921 - val_loss: 1.0097 - val_accuracy: 0.9250\n",
            "Epoch 82/100\n",
            "1500/1500 [==============================] - 7s 4ms/step - loss: 0.0253 - accuracy: 0.9930 - val_loss: 1.2320 - val_accuracy: 0.9266\n",
            "Epoch 83/100\n",
            "1500/1500 [==============================] - 7s 5ms/step - loss: 0.0270 - accuracy: 0.9923 - val_loss: 0.7869 - val_accuracy: 0.9217\n",
            "Epoch 84/100\n",
            "1500/1500 [==============================] - 7s 5ms/step - loss: 0.0281 - accuracy: 0.9925 - val_loss: 0.9618 - val_accuracy: 0.9255\n",
            "Epoch 85/100\n",
            "1500/1500 [==============================] - 7s 5ms/step - loss: 0.0284 - accuracy: 0.9922 - val_loss: 1.0438 - val_accuracy: 0.9243\n",
            "Epoch 86/100\n",
            "1500/1500 [==============================] - 7s 5ms/step - loss: 0.0271 - accuracy: 0.9932 - val_loss: 1.5248 - val_accuracy: 0.9237\n",
            "Epoch 87/100\n",
            "1500/1500 [==============================] - 7s 5ms/step - loss: 0.0335 - accuracy: 0.9914 - val_loss: 0.8944 - val_accuracy: 0.9232\n",
            "Epoch 88/100\n",
            "1500/1500 [==============================] - 7s 5ms/step - loss: 0.0277 - accuracy: 0.9930 - val_loss: 0.9537 - val_accuracy: 0.9258\n",
            "Epoch 89/100\n",
            "1500/1500 [==============================] - 7s 5ms/step - loss: 0.0320 - accuracy: 0.9920 - val_loss: 1.0087 - val_accuracy: 0.9243\n",
            "Epoch 90/100\n",
            "1500/1500 [==============================] - 7s 5ms/step - loss: 0.0258 - accuracy: 0.9930 - val_loss: 0.7900 - val_accuracy: 0.9254\n",
            "Epoch 91/100\n",
            "1500/1500 [==============================] - 7s 5ms/step - loss: 0.0303 - accuracy: 0.9921 - val_loss: 0.8663 - val_accuracy: 0.9234\n",
            "Epoch 92/100\n",
            "1500/1500 [==============================] - 7s 5ms/step - loss: 0.0281 - accuracy: 0.9918 - val_loss: 1.1066 - val_accuracy: 0.9248\n",
            "Epoch 93/100\n",
            "1500/1500 [==============================] - 7s 5ms/step - loss: 0.0261 - accuracy: 0.9931 - val_loss: 1.1150 - val_accuracy: 0.9231\n",
            "Epoch 94/100\n",
            "1500/1500 [==============================] - 7s 5ms/step - loss: 0.0295 - accuracy: 0.9925 - val_loss: 1.0155 - val_accuracy: 0.9230\n",
            "Epoch 95/100\n",
            "1500/1500 [==============================] - 7s 5ms/step - loss: 0.0266 - accuracy: 0.9928 - val_loss: 1.0981 - val_accuracy: 0.9268\n",
            "Epoch 96/100\n",
            "1500/1500 [==============================] - 7s 5ms/step - loss: 0.0269 - accuracy: 0.9930 - val_loss: 0.8960 - val_accuracy: 0.9237\n",
            "Epoch 97/100\n",
            "1500/1500 [==============================] - 7s 5ms/step - loss: 0.0302 - accuracy: 0.9919 - val_loss: 1.0769 - val_accuracy: 0.9243\n",
            "Epoch 98/100\n",
            "1500/1500 [==============================] - 7s 5ms/step - loss: 0.0273 - accuracy: 0.9927 - val_loss: 0.8773 - val_accuracy: 0.9283\n",
            "Epoch 99/100\n",
            "1500/1500 [==============================] - 7s 5ms/step - loss: 0.0281 - accuracy: 0.9927 - val_loss: 1.0713 - val_accuracy: 0.9239\n",
            "Epoch 100/100\n",
            "1500/1500 [==============================] - 7s 5ms/step - loss: 0.0385 - accuracy: 0.9910 - val_loss: 0.7371 - val_accuracy: 0.9209\n"
          ]
        },
        {
          "output_type": "execute_result",
          "data": {
            "text/plain": [
              "<keras.callbacks.History at 0x7f3b9c1c6e90>"
            ]
          },
          "metadata": {},
          "execution_count": 78
        }
      ]
    },
    {
      "cell_type": "code",
      "source": [
        "model.evaluate(img_test,test_labels)"
      ],
      "metadata": {
        "colab": {
          "base_uri": "https://localhost:8080/"
        },
        "id": "Q39b_CdkuTTo",
        "outputId": "bc816b5a-0b76-43a6-bce9-9358bea4bff5"
      },
      "execution_count": 80,
      "outputs": [
        {
          "output_type": "stream",
          "name": "stdout",
          "text": [
            "313/313 [==============================] - 1s 4ms/step - loss: 0.7396 - accuracy: 0.9184\n"
          ]
        },
        {
          "output_type": "execute_result",
          "data": {
            "text/plain": [
              "[0.7396343350410461, 0.91839998960495]"
            ]
          },
          "metadata": {},
          "execution_count": 80
        }
      ]
    }
  ]
}